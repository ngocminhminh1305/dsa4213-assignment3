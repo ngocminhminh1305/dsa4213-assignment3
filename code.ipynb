{
  "nbformat": 4,
  "nbformat_minor": 0,
  "metadata": {
    "colab": {
      "provenance": [],
      "gpuType": "T4"
    },
    "kernelspec": {
      "name": "python3",
      "display_name": "Python 3"
    },
    "language_info": {
      "name": "python"
    },
    "accelerator": "GPU",
    "widgets": {
      "application/vnd.jupyter.widget-state+json": {
        "632dbc5b3f62435db2615c2efa8d0d56": {
          "model_module": "@jupyter-widgets/controls",
          "model_name": "HBoxModel",
          "model_module_version": "1.5.0",
          "state": {
            "_dom_classes": [],
            "_model_module": "@jupyter-widgets/controls",
            "_model_module_version": "1.5.0",
            "_model_name": "HBoxModel",
            "_view_count": null,
            "_view_module": "@jupyter-widgets/controls",
            "_view_module_version": "1.5.0",
            "_view_name": "HBoxView",
            "box_style": "",
            "children": [
              "IPY_MODEL_ee749437c26446f88f09af9c5df7db9a",
              "IPY_MODEL_ce3050f564c04eec805b8c6021d66663",
              "IPY_MODEL_d399b9bc59cf4d30926ef3633c753963"
            ],
            "layout": "IPY_MODEL_c11620edf3324ff69c97dc76217eda80"
          }
        },
        "ee749437c26446f88f09af9c5df7db9a": {
          "model_module": "@jupyter-widgets/controls",
          "model_name": "HTMLModel",
          "model_module_version": "1.5.0",
          "state": {
            "_dom_classes": [],
            "_model_module": "@jupyter-widgets/controls",
            "_model_module_version": "1.5.0",
            "_model_name": "HTMLModel",
            "_view_count": null,
            "_view_module": "@jupyter-widgets/controls",
            "_view_module_version": "1.5.0",
            "_view_name": "HTMLView",
            "description": "",
            "description_tooltip": null,
            "layout": "IPY_MODEL_34fd4ab462e940eaa8857ed3f13dcdde",
            "placeholder": "​",
            "style": "IPY_MODEL_7834640f4c4541e5ae1263088842c70c",
            "value": "Map: 100%"
          }
        },
        "ce3050f564c04eec805b8c6021d66663": {
          "model_module": "@jupyter-widgets/controls",
          "model_name": "FloatProgressModel",
          "model_module_version": "1.5.0",
          "state": {
            "_dom_classes": [],
            "_model_module": "@jupyter-widgets/controls",
            "_model_module_version": "1.5.0",
            "_model_name": "FloatProgressModel",
            "_view_count": null,
            "_view_module": "@jupyter-widgets/controls",
            "_view_module_version": "1.5.0",
            "_view_name": "ProgressView",
            "bar_style": "success",
            "description": "",
            "description_tooltip": null,
            "layout": "IPY_MODEL_3b9930548e18418689d469e9a90ad3c9",
            "max": 108000,
            "min": 0,
            "orientation": "horizontal",
            "style": "IPY_MODEL_13ef9c678d204010a448d23e70d564a0",
            "value": 108000
          }
        },
        "d399b9bc59cf4d30926ef3633c753963": {
          "model_module": "@jupyter-widgets/controls",
          "model_name": "HTMLModel",
          "model_module_version": "1.5.0",
          "state": {
            "_dom_classes": [],
            "_model_module": "@jupyter-widgets/controls",
            "_model_module_version": "1.5.0",
            "_model_name": "HTMLModel",
            "_view_count": null,
            "_view_module": "@jupyter-widgets/controls",
            "_view_module_version": "1.5.0",
            "_view_name": "HTMLView",
            "description": "",
            "description_tooltip": null,
            "layout": "IPY_MODEL_99ec266bbd6d44de9a7911a60d9b8832",
            "placeholder": "​",
            "style": "IPY_MODEL_ee3cd00a7717438c9d3201bbe6a15323",
            "value": " 108000/108000 [00:21&lt;00:00, 6097.93 examples/s]"
          }
        },
        "c11620edf3324ff69c97dc76217eda80": {
          "model_module": "@jupyter-widgets/base",
          "model_name": "LayoutModel",
          "model_module_version": "1.2.0",
          "state": {
            "_model_module": "@jupyter-widgets/base",
            "_model_module_version": "1.2.0",
            "_model_name": "LayoutModel",
            "_view_count": null,
            "_view_module": "@jupyter-widgets/base",
            "_view_module_version": "1.2.0",
            "_view_name": "LayoutView",
            "align_content": null,
            "align_items": null,
            "align_self": null,
            "border": null,
            "bottom": null,
            "display": null,
            "flex": null,
            "flex_flow": null,
            "grid_area": null,
            "grid_auto_columns": null,
            "grid_auto_flow": null,
            "grid_auto_rows": null,
            "grid_column": null,
            "grid_gap": null,
            "grid_row": null,
            "grid_template_areas": null,
            "grid_template_columns": null,
            "grid_template_rows": null,
            "height": null,
            "justify_content": null,
            "justify_items": null,
            "left": null,
            "margin": null,
            "max_height": null,
            "max_width": null,
            "min_height": null,
            "min_width": null,
            "object_fit": null,
            "object_position": null,
            "order": null,
            "overflow": null,
            "overflow_x": null,
            "overflow_y": null,
            "padding": null,
            "right": null,
            "top": null,
            "visibility": null,
            "width": null
          }
        },
        "34fd4ab462e940eaa8857ed3f13dcdde": {
          "model_module": "@jupyter-widgets/base",
          "model_name": "LayoutModel",
          "model_module_version": "1.2.0",
          "state": {
            "_model_module": "@jupyter-widgets/base",
            "_model_module_version": "1.2.0",
            "_model_name": "LayoutModel",
            "_view_count": null,
            "_view_module": "@jupyter-widgets/base",
            "_view_module_version": "1.2.0",
            "_view_name": "LayoutView",
            "align_content": null,
            "align_items": null,
            "align_self": null,
            "border": null,
            "bottom": null,
            "display": null,
            "flex": null,
            "flex_flow": null,
            "grid_area": null,
            "grid_auto_columns": null,
            "grid_auto_flow": null,
            "grid_auto_rows": null,
            "grid_column": null,
            "grid_gap": null,
            "grid_row": null,
            "grid_template_areas": null,
            "grid_template_columns": null,
            "grid_template_rows": null,
            "height": null,
            "justify_content": null,
            "justify_items": null,
            "left": null,
            "margin": null,
            "max_height": null,
            "max_width": null,
            "min_height": null,
            "min_width": null,
            "object_fit": null,
            "object_position": null,
            "order": null,
            "overflow": null,
            "overflow_x": null,
            "overflow_y": null,
            "padding": null,
            "right": null,
            "top": null,
            "visibility": null,
            "width": null
          }
        },
        "7834640f4c4541e5ae1263088842c70c": {
          "model_module": "@jupyter-widgets/controls",
          "model_name": "DescriptionStyleModel",
          "model_module_version": "1.5.0",
          "state": {
            "_model_module": "@jupyter-widgets/controls",
            "_model_module_version": "1.5.0",
            "_model_name": "DescriptionStyleModel",
            "_view_count": null,
            "_view_module": "@jupyter-widgets/base",
            "_view_module_version": "1.2.0",
            "_view_name": "StyleView",
            "description_width": ""
          }
        },
        "3b9930548e18418689d469e9a90ad3c9": {
          "model_module": "@jupyter-widgets/base",
          "model_name": "LayoutModel",
          "model_module_version": "1.2.0",
          "state": {
            "_model_module": "@jupyter-widgets/base",
            "_model_module_version": "1.2.0",
            "_model_name": "LayoutModel",
            "_view_count": null,
            "_view_module": "@jupyter-widgets/base",
            "_view_module_version": "1.2.0",
            "_view_name": "LayoutView",
            "align_content": null,
            "align_items": null,
            "align_self": null,
            "border": null,
            "bottom": null,
            "display": null,
            "flex": null,
            "flex_flow": null,
            "grid_area": null,
            "grid_auto_columns": null,
            "grid_auto_flow": null,
            "grid_auto_rows": null,
            "grid_column": null,
            "grid_gap": null,
            "grid_row": null,
            "grid_template_areas": null,
            "grid_template_columns": null,
            "grid_template_rows": null,
            "height": null,
            "justify_content": null,
            "justify_items": null,
            "left": null,
            "margin": null,
            "max_height": null,
            "max_width": null,
            "min_height": null,
            "min_width": null,
            "object_fit": null,
            "object_position": null,
            "order": null,
            "overflow": null,
            "overflow_x": null,
            "overflow_y": null,
            "padding": null,
            "right": null,
            "top": null,
            "visibility": null,
            "width": null
          }
        },
        "13ef9c678d204010a448d23e70d564a0": {
          "model_module": "@jupyter-widgets/controls",
          "model_name": "ProgressStyleModel",
          "model_module_version": "1.5.0",
          "state": {
            "_model_module": "@jupyter-widgets/controls",
            "_model_module_version": "1.5.0",
            "_model_name": "ProgressStyleModel",
            "_view_count": null,
            "_view_module": "@jupyter-widgets/base",
            "_view_module_version": "1.2.0",
            "_view_name": "StyleView",
            "bar_color": null,
            "description_width": ""
          }
        },
        "99ec266bbd6d44de9a7911a60d9b8832": {
          "model_module": "@jupyter-widgets/base",
          "model_name": "LayoutModel",
          "model_module_version": "1.2.0",
          "state": {
            "_model_module": "@jupyter-widgets/base",
            "_model_module_version": "1.2.0",
            "_model_name": "LayoutModel",
            "_view_count": null,
            "_view_module": "@jupyter-widgets/base",
            "_view_module_version": "1.2.0",
            "_view_name": "LayoutView",
            "align_content": null,
            "align_items": null,
            "align_self": null,
            "border": null,
            "bottom": null,
            "display": null,
            "flex": null,
            "flex_flow": null,
            "grid_area": null,
            "grid_auto_columns": null,
            "grid_auto_flow": null,
            "grid_auto_rows": null,
            "grid_column": null,
            "grid_gap": null,
            "grid_row": null,
            "grid_template_areas": null,
            "grid_template_columns": null,
            "grid_template_rows": null,
            "height": null,
            "justify_content": null,
            "justify_items": null,
            "left": null,
            "margin": null,
            "max_height": null,
            "max_width": null,
            "min_height": null,
            "min_width": null,
            "object_fit": null,
            "object_position": null,
            "order": null,
            "overflow": null,
            "overflow_x": null,
            "overflow_y": null,
            "padding": null,
            "right": null,
            "top": null,
            "visibility": null,
            "width": null
          }
        },
        "ee3cd00a7717438c9d3201bbe6a15323": {
          "model_module": "@jupyter-widgets/controls",
          "model_name": "DescriptionStyleModel",
          "model_module_version": "1.5.0",
          "state": {
            "_model_module": "@jupyter-widgets/controls",
            "_model_module_version": "1.5.0",
            "_model_name": "DescriptionStyleModel",
            "_view_count": null,
            "_view_module": "@jupyter-widgets/base",
            "_view_module_version": "1.2.0",
            "_view_name": "StyleView",
            "description_width": ""
          }
        },
        "41ea21a3bfdd4551b4f46528beea05dd": {
          "model_module": "@jupyter-widgets/controls",
          "model_name": "HBoxModel",
          "model_module_version": "1.5.0",
          "state": {
            "_dom_classes": [],
            "_model_module": "@jupyter-widgets/controls",
            "_model_module_version": "1.5.0",
            "_model_name": "HBoxModel",
            "_view_count": null,
            "_view_module": "@jupyter-widgets/controls",
            "_view_module_version": "1.5.0",
            "_view_name": "HBoxView",
            "box_style": "",
            "children": [
              "IPY_MODEL_af9897fac5a147a2981335a63183d841",
              "IPY_MODEL_fa543a848fa748f98809545c94dd7132",
              "IPY_MODEL_e5a0a15b9ddc4fe184e9412628f4c9a7"
            ],
            "layout": "IPY_MODEL_7b1d6f37ae564b55bd310cc4fd890783"
          }
        },
        "af9897fac5a147a2981335a63183d841": {
          "model_module": "@jupyter-widgets/controls",
          "model_name": "HTMLModel",
          "model_module_version": "1.5.0",
          "state": {
            "_dom_classes": [],
            "_model_module": "@jupyter-widgets/controls",
            "_model_module_version": "1.5.0",
            "_model_name": "HTMLModel",
            "_view_count": null,
            "_view_module": "@jupyter-widgets/controls",
            "_view_module_version": "1.5.0",
            "_view_name": "HTMLView",
            "description": "",
            "description_tooltip": null,
            "layout": "IPY_MODEL_1776e28f256e4c249c9080d424808899",
            "placeholder": "​",
            "style": "IPY_MODEL_6514600560b848c38d5fb4768ba93e88",
            "value": "Map: 100%"
          }
        },
        "fa543a848fa748f98809545c94dd7132": {
          "model_module": "@jupyter-widgets/controls",
          "model_name": "FloatProgressModel",
          "model_module_version": "1.5.0",
          "state": {
            "_dom_classes": [],
            "_model_module": "@jupyter-widgets/controls",
            "_model_module_version": "1.5.0",
            "_model_name": "FloatProgressModel",
            "_view_count": null,
            "_view_module": "@jupyter-widgets/controls",
            "_view_module_version": "1.5.0",
            "_view_name": "ProgressView",
            "bar_style": "success",
            "description": "",
            "description_tooltip": null,
            "layout": "IPY_MODEL_097673a397a243c495795ff61e16e1b6",
            "max": 12000,
            "min": 0,
            "orientation": "horizontal",
            "style": "IPY_MODEL_f669eb4dd10d4bc7a1f09f360b1456e4",
            "value": 12000
          }
        },
        "e5a0a15b9ddc4fe184e9412628f4c9a7": {
          "model_module": "@jupyter-widgets/controls",
          "model_name": "HTMLModel",
          "model_module_version": "1.5.0",
          "state": {
            "_dom_classes": [],
            "_model_module": "@jupyter-widgets/controls",
            "_model_module_version": "1.5.0",
            "_model_name": "HTMLModel",
            "_view_count": null,
            "_view_module": "@jupyter-widgets/controls",
            "_view_module_version": "1.5.0",
            "_view_name": "HTMLView",
            "description": "",
            "description_tooltip": null,
            "layout": "IPY_MODEL_14fdc1d313c84d8f84594e8de7d8d7e5",
            "placeholder": "​",
            "style": "IPY_MODEL_ef1e64c53f1949d69daf12ec5d2d8d53",
            "value": " 12000/12000 [00:01&lt;00:00, 6282.99 examples/s]"
          }
        },
        "7b1d6f37ae564b55bd310cc4fd890783": {
          "model_module": "@jupyter-widgets/base",
          "model_name": "LayoutModel",
          "model_module_version": "1.2.0",
          "state": {
            "_model_module": "@jupyter-widgets/base",
            "_model_module_version": "1.2.0",
            "_model_name": "LayoutModel",
            "_view_count": null,
            "_view_module": "@jupyter-widgets/base",
            "_view_module_version": "1.2.0",
            "_view_name": "LayoutView",
            "align_content": null,
            "align_items": null,
            "align_self": null,
            "border": null,
            "bottom": null,
            "display": null,
            "flex": null,
            "flex_flow": null,
            "grid_area": null,
            "grid_auto_columns": null,
            "grid_auto_flow": null,
            "grid_auto_rows": null,
            "grid_column": null,
            "grid_gap": null,
            "grid_row": null,
            "grid_template_areas": null,
            "grid_template_columns": null,
            "grid_template_rows": null,
            "height": null,
            "justify_content": null,
            "justify_items": null,
            "left": null,
            "margin": null,
            "max_height": null,
            "max_width": null,
            "min_height": null,
            "min_width": null,
            "object_fit": null,
            "object_position": null,
            "order": null,
            "overflow": null,
            "overflow_x": null,
            "overflow_y": null,
            "padding": null,
            "right": null,
            "top": null,
            "visibility": null,
            "width": null
          }
        },
        "1776e28f256e4c249c9080d424808899": {
          "model_module": "@jupyter-widgets/base",
          "model_name": "LayoutModel",
          "model_module_version": "1.2.0",
          "state": {
            "_model_module": "@jupyter-widgets/base",
            "_model_module_version": "1.2.0",
            "_model_name": "LayoutModel",
            "_view_count": null,
            "_view_module": "@jupyter-widgets/base",
            "_view_module_version": "1.2.0",
            "_view_name": "LayoutView",
            "align_content": null,
            "align_items": null,
            "align_self": null,
            "border": null,
            "bottom": null,
            "display": null,
            "flex": null,
            "flex_flow": null,
            "grid_area": null,
            "grid_auto_columns": null,
            "grid_auto_flow": null,
            "grid_auto_rows": null,
            "grid_column": null,
            "grid_gap": null,
            "grid_row": null,
            "grid_template_areas": null,
            "grid_template_columns": null,
            "grid_template_rows": null,
            "height": null,
            "justify_content": null,
            "justify_items": null,
            "left": null,
            "margin": null,
            "max_height": null,
            "max_width": null,
            "min_height": null,
            "min_width": null,
            "object_fit": null,
            "object_position": null,
            "order": null,
            "overflow": null,
            "overflow_x": null,
            "overflow_y": null,
            "padding": null,
            "right": null,
            "top": null,
            "visibility": null,
            "width": null
          }
        },
        "6514600560b848c38d5fb4768ba93e88": {
          "model_module": "@jupyter-widgets/controls",
          "model_name": "DescriptionStyleModel",
          "model_module_version": "1.5.0",
          "state": {
            "_model_module": "@jupyter-widgets/controls",
            "_model_module_version": "1.5.0",
            "_model_name": "DescriptionStyleModel",
            "_view_count": null,
            "_view_module": "@jupyter-widgets/base",
            "_view_module_version": "1.2.0",
            "_view_name": "StyleView",
            "description_width": ""
          }
        },
        "097673a397a243c495795ff61e16e1b6": {
          "model_module": "@jupyter-widgets/base",
          "model_name": "LayoutModel",
          "model_module_version": "1.2.0",
          "state": {
            "_model_module": "@jupyter-widgets/base",
            "_model_module_version": "1.2.0",
            "_model_name": "LayoutModel",
            "_view_count": null,
            "_view_module": "@jupyter-widgets/base",
            "_view_module_version": "1.2.0",
            "_view_name": "LayoutView",
            "align_content": null,
            "align_items": null,
            "align_self": null,
            "border": null,
            "bottom": null,
            "display": null,
            "flex": null,
            "flex_flow": null,
            "grid_area": null,
            "grid_auto_columns": null,
            "grid_auto_flow": null,
            "grid_auto_rows": null,
            "grid_column": null,
            "grid_gap": null,
            "grid_row": null,
            "grid_template_areas": null,
            "grid_template_columns": null,
            "grid_template_rows": null,
            "height": null,
            "justify_content": null,
            "justify_items": null,
            "left": null,
            "margin": null,
            "max_height": null,
            "max_width": null,
            "min_height": null,
            "min_width": null,
            "object_fit": null,
            "object_position": null,
            "order": null,
            "overflow": null,
            "overflow_x": null,
            "overflow_y": null,
            "padding": null,
            "right": null,
            "top": null,
            "visibility": null,
            "width": null
          }
        },
        "f669eb4dd10d4bc7a1f09f360b1456e4": {
          "model_module": "@jupyter-widgets/controls",
          "model_name": "ProgressStyleModel",
          "model_module_version": "1.5.0",
          "state": {
            "_model_module": "@jupyter-widgets/controls",
            "_model_module_version": "1.5.0",
            "_model_name": "ProgressStyleModel",
            "_view_count": null,
            "_view_module": "@jupyter-widgets/base",
            "_view_module_version": "1.2.0",
            "_view_name": "StyleView",
            "bar_color": null,
            "description_width": ""
          }
        },
        "14fdc1d313c84d8f84594e8de7d8d7e5": {
          "model_module": "@jupyter-widgets/base",
          "model_name": "LayoutModel",
          "model_module_version": "1.2.0",
          "state": {
            "_model_module": "@jupyter-widgets/base",
            "_model_module_version": "1.2.0",
            "_model_name": "LayoutModel",
            "_view_count": null,
            "_view_module": "@jupyter-widgets/base",
            "_view_module_version": "1.2.0",
            "_view_name": "LayoutView",
            "align_content": null,
            "align_items": null,
            "align_self": null,
            "border": null,
            "bottom": null,
            "display": null,
            "flex": null,
            "flex_flow": null,
            "grid_area": null,
            "grid_auto_columns": null,
            "grid_auto_flow": null,
            "grid_auto_rows": null,
            "grid_column": null,
            "grid_gap": null,
            "grid_row": null,
            "grid_template_areas": null,
            "grid_template_columns": null,
            "grid_template_rows": null,
            "height": null,
            "justify_content": null,
            "justify_items": null,
            "left": null,
            "margin": null,
            "max_height": null,
            "max_width": null,
            "min_height": null,
            "min_width": null,
            "object_fit": null,
            "object_position": null,
            "order": null,
            "overflow": null,
            "overflow_x": null,
            "overflow_y": null,
            "padding": null,
            "right": null,
            "top": null,
            "visibility": null,
            "width": null
          }
        },
        "ef1e64c53f1949d69daf12ec5d2d8d53": {
          "model_module": "@jupyter-widgets/controls",
          "model_name": "DescriptionStyleModel",
          "model_module_version": "1.5.0",
          "state": {
            "_model_module": "@jupyter-widgets/controls",
            "_model_module_version": "1.5.0",
            "_model_name": "DescriptionStyleModel",
            "_view_count": null,
            "_view_module": "@jupyter-widgets/base",
            "_view_module_version": "1.2.0",
            "_view_name": "StyleView",
            "description_width": ""
          }
        },
        "9192f9c0b9a74463b3e330d668ddae5c": {
          "model_module": "@jupyter-widgets/controls",
          "model_name": "HBoxModel",
          "model_module_version": "1.5.0",
          "state": {
            "_dom_classes": [],
            "_model_module": "@jupyter-widgets/controls",
            "_model_module_version": "1.5.0",
            "_model_name": "HBoxModel",
            "_view_count": null,
            "_view_module": "@jupyter-widgets/controls",
            "_view_module_version": "1.5.0",
            "_view_name": "HBoxView",
            "box_style": "",
            "children": [
              "IPY_MODEL_e20fb243994f49b48b297963dbea0a27",
              "IPY_MODEL_ba573a60693b4f089ba275facf83716c",
              "IPY_MODEL_0aab6ad64f4441fbaa16ec8a0c1454f7"
            ],
            "layout": "IPY_MODEL_26699d01c6e34a83a6194e6e080841c3"
          }
        },
        "e20fb243994f49b48b297963dbea0a27": {
          "model_module": "@jupyter-widgets/controls",
          "model_name": "HTMLModel",
          "model_module_version": "1.5.0",
          "state": {
            "_dom_classes": [],
            "_model_module": "@jupyter-widgets/controls",
            "_model_module_version": "1.5.0",
            "_model_name": "HTMLModel",
            "_view_count": null,
            "_view_module": "@jupyter-widgets/controls",
            "_view_module_version": "1.5.0",
            "_view_name": "HTMLView",
            "description": "",
            "description_tooltip": null,
            "layout": "IPY_MODEL_99888a4958434b99a4fbddcf17a0e7c9",
            "placeholder": "​",
            "style": "IPY_MODEL_b538e076855b4ee7bb2a38cdca58b237",
            "value": "Map: 100%"
          }
        },
        "ba573a60693b4f089ba275facf83716c": {
          "model_module": "@jupyter-widgets/controls",
          "model_name": "FloatProgressModel",
          "model_module_version": "1.5.0",
          "state": {
            "_dom_classes": [],
            "_model_module": "@jupyter-widgets/controls",
            "_model_module_version": "1.5.0",
            "_model_name": "FloatProgressModel",
            "_view_count": null,
            "_view_module": "@jupyter-widgets/controls",
            "_view_module_version": "1.5.0",
            "_view_name": "ProgressView",
            "bar_style": "success",
            "description": "",
            "description_tooltip": null,
            "layout": "IPY_MODEL_0023bb59d1c649d9afee87efbea0f81f",
            "max": 7600,
            "min": 0,
            "orientation": "horizontal",
            "style": "IPY_MODEL_64915a08370c472cba6cf5f4a6ebd2b0",
            "value": 7600
          }
        },
        "0aab6ad64f4441fbaa16ec8a0c1454f7": {
          "model_module": "@jupyter-widgets/controls",
          "model_name": "HTMLModel",
          "model_module_version": "1.5.0",
          "state": {
            "_dom_classes": [],
            "_model_module": "@jupyter-widgets/controls",
            "_model_module_version": "1.5.0",
            "_model_name": "HTMLModel",
            "_view_count": null,
            "_view_module": "@jupyter-widgets/controls",
            "_view_module_version": "1.5.0",
            "_view_name": "HTMLView",
            "description": "",
            "description_tooltip": null,
            "layout": "IPY_MODEL_af55e76ed2204ff8bfd10b75f80c5076",
            "placeholder": "​",
            "style": "IPY_MODEL_bbf32638cd884df9a214ac2609f8f04f",
            "value": " 7600/7600 [00:01&lt;00:00, 6021.19 examples/s]"
          }
        },
        "26699d01c6e34a83a6194e6e080841c3": {
          "model_module": "@jupyter-widgets/base",
          "model_name": "LayoutModel",
          "model_module_version": "1.2.0",
          "state": {
            "_model_module": "@jupyter-widgets/base",
            "_model_module_version": "1.2.0",
            "_model_name": "LayoutModel",
            "_view_count": null,
            "_view_module": "@jupyter-widgets/base",
            "_view_module_version": "1.2.0",
            "_view_name": "LayoutView",
            "align_content": null,
            "align_items": null,
            "align_self": null,
            "border": null,
            "bottom": null,
            "display": null,
            "flex": null,
            "flex_flow": null,
            "grid_area": null,
            "grid_auto_columns": null,
            "grid_auto_flow": null,
            "grid_auto_rows": null,
            "grid_column": null,
            "grid_gap": null,
            "grid_row": null,
            "grid_template_areas": null,
            "grid_template_columns": null,
            "grid_template_rows": null,
            "height": null,
            "justify_content": null,
            "justify_items": null,
            "left": null,
            "margin": null,
            "max_height": null,
            "max_width": null,
            "min_height": null,
            "min_width": null,
            "object_fit": null,
            "object_position": null,
            "order": null,
            "overflow": null,
            "overflow_x": null,
            "overflow_y": null,
            "padding": null,
            "right": null,
            "top": null,
            "visibility": null,
            "width": null
          }
        },
        "99888a4958434b99a4fbddcf17a0e7c9": {
          "model_module": "@jupyter-widgets/base",
          "model_name": "LayoutModel",
          "model_module_version": "1.2.0",
          "state": {
            "_model_module": "@jupyter-widgets/base",
            "_model_module_version": "1.2.0",
            "_model_name": "LayoutModel",
            "_view_count": null,
            "_view_module": "@jupyter-widgets/base",
            "_view_module_version": "1.2.0",
            "_view_name": "LayoutView",
            "align_content": null,
            "align_items": null,
            "align_self": null,
            "border": null,
            "bottom": null,
            "display": null,
            "flex": null,
            "flex_flow": null,
            "grid_area": null,
            "grid_auto_columns": null,
            "grid_auto_flow": null,
            "grid_auto_rows": null,
            "grid_column": null,
            "grid_gap": null,
            "grid_row": null,
            "grid_template_areas": null,
            "grid_template_columns": null,
            "grid_template_rows": null,
            "height": null,
            "justify_content": null,
            "justify_items": null,
            "left": null,
            "margin": null,
            "max_height": null,
            "max_width": null,
            "min_height": null,
            "min_width": null,
            "object_fit": null,
            "object_position": null,
            "order": null,
            "overflow": null,
            "overflow_x": null,
            "overflow_y": null,
            "padding": null,
            "right": null,
            "top": null,
            "visibility": null,
            "width": null
          }
        },
        "b538e076855b4ee7bb2a38cdca58b237": {
          "model_module": "@jupyter-widgets/controls",
          "model_name": "DescriptionStyleModel",
          "model_module_version": "1.5.0",
          "state": {
            "_model_module": "@jupyter-widgets/controls",
            "_model_module_version": "1.5.0",
            "_model_name": "DescriptionStyleModel",
            "_view_count": null,
            "_view_module": "@jupyter-widgets/base",
            "_view_module_version": "1.2.0",
            "_view_name": "StyleView",
            "description_width": ""
          }
        },
        "0023bb59d1c649d9afee87efbea0f81f": {
          "model_module": "@jupyter-widgets/base",
          "model_name": "LayoutModel",
          "model_module_version": "1.2.0",
          "state": {
            "_model_module": "@jupyter-widgets/base",
            "_model_module_version": "1.2.0",
            "_model_name": "LayoutModel",
            "_view_count": null,
            "_view_module": "@jupyter-widgets/base",
            "_view_module_version": "1.2.0",
            "_view_name": "LayoutView",
            "align_content": null,
            "align_items": null,
            "align_self": null,
            "border": null,
            "bottom": null,
            "display": null,
            "flex": null,
            "flex_flow": null,
            "grid_area": null,
            "grid_auto_columns": null,
            "grid_auto_flow": null,
            "grid_auto_rows": null,
            "grid_column": null,
            "grid_gap": null,
            "grid_row": null,
            "grid_template_areas": null,
            "grid_template_columns": null,
            "grid_template_rows": null,
            "height": null,
            "justify_content": null,
            "justify_items": null,
            "left": null,
            "margin": null,
            "max_height": null,
            "max_width": null,
            "min_height": null,
            "min_width": null,
            "object_fit": null,
            "object_position": null,
            "order": null,
            "overflow": null,
            "overflow_x": null,
            "overflow_y": null,
            "padding": null,
            "right": null,
            "top": null,
            "visibility": null,
            "width": null
          }
        },
        "64915a08370c472cba6cf5f4a6ebd2b0": {
          "model_module": "@jupyter-widgets/controls",
          "model_name": "ProgressStyleModel",
          "model_module_version": "1.5.0",
          "state": {
            "_model_module": "@jupyter-widgets/controls",
            "_model_module_version": "1.5.0",
            "_model_name": "ProgressStyleModel",
            "_view_count": null,
            "_view_module": "@jupyter-widgets/base",
            "_view_module_version": "1.2.0",
            "_view_name": "StyleView",
            "bar_color": null,
            "description_width": ""
          }
        },
        "af55e76ed2204ff8bfd10b75f80c5076": {
          "model_module": "@jupyter-widgets/base",
          "model_name": "LayoutModel",
          "model_module_version": "1.2.0",
          "state": {
            "_model_module": "@jupyter-widgets/base",
            "_model_module_version": "1.2.0",
            "_model_name": "LayoutModel",
            "_view_count": null,
            "_view_module": "@jupyter-widgets/base",
            "_view_module_version": "1.2.0",
            "_view_name": "LayoutView",
            "align_content": null,
            "align_items": null,
            "align_self": null,
            "border": null,
            "bottom": null,
            "display": null,
            "flex": null,
            "flex_flow": null,
            "grid_area": null,
            "grid_auto_columns": null,
            "grid_auto_flow": null,
            "grid_auto_rows": null,
            "grid_column": null,
            "grid_gap": null,
            "grid_row": null,
            "grid_template_areas": null,
            "grid_template_columns": null,
            "grid_template_rows": null,
            "height": null,
            "justify_content": null,
            "justify_items": null,
            "left": null,
            "margin": null,
            "max_height": null,
            "max_width": null,
            "min_height": null,
            "min_width": null,
            "object_fit": null,
            "object_position": null,
            "order": null,
            "overflow": null,
            "overflow_x": null,
            "overflow_y": null,
            "padding": null,
            "right": null,
            "top": null,
            "visibility": null,
            "width": null
          }
        },
        "bbf32638cd884df9a214ac2609f8f04f": {
          "model_module": "@jupyter-widgets/controls",
          "model_name": "DescriptionStyleModel",
          "model_module_version": "1.5.0",
          "state": {
            "_model_module": "@jupyter-widgets/controls",
            "_model_module_version": "1.5.0",
            "_model_name": "DescriptionStyleModel",
            "_view_count": null,
            "_view_module": "@jupyter-widgets/base",
            "_view_module_version": "1.2.0",
            "_view_name": "StyleView",
            "description_width": ""
          }
        }
      }
    }
  },
  "cells": [
    {
      "cell_type": "markdown",
      "source": [
        "# 0) Title and Setup\n",
        "\n",
        "* Notebook Title: DSA4213 Assignment 3 - Topic Detection on AG News with DistilBERT using 2 fine-tuning strategies  which are Full Fine-tuning and LoRA\n"
      ],
      "metadata": {
        "id": "DChSWveUnOJk"
      }
    },
    {
      "cell_type": "markdown",
      "source": [
        "# 1) Setup & Environment\n",
        "\n",
        "I installed all required libraries (`transformers`, `datasets`, `evaluate`, `peft`, `accelerate`) and confirmed GPU availability in Google Colab. This ensured a stable environment for fine-tuning experiments."
      ],
      "metadata": {
        "id": "Cpr16FQ3n23C"
      }
    },
    {
      "cell_type": "code",
      "execution_count": 1,
      "metadata": {
        "colab": {
          "base_uri": "https://localhost:8080/",
          "height": 0
        },
        "id": "BTwT2aS1mGWo",
        "outputId": "42c1a3e4-b13b-46c0-89f0-e2b5e829bed5"
      },
      "outputs": [
        {
          "output_type": "stream",
          "name": "stdout",
          "text": [
            "\u001b[?25l   \u001b[90m━━━━━━━━━━━━━━━━━━━━━━━━━━━━━━━━━━━━━━━━\u001b[0m \u001b[32m0.0/84.1 kB\u001b[0m \u001b[31m?\u001b[0m eta \u001b[36m-:--:--\u001b[0m\r\u001b[2K   \u001b[90m━━━━━━━━━━━━━━━━━━━━━━━━━━━━━━━━━━━━━━━━\u001b[0m \u001b[32m84.1/84.1 kB\u001b[0m \u001b[31m4.6 MB/s\u001b[0m eta \u001b[36m0:00:00\u001b[0m\n",
            "\u001b[?25h"
          ]
        }
      ],
      "source": [
        "# 1.1 Install core libraries\n",
        "# !pip -q install transformers datasets evaluate peft accelerate"
      ]
    },
    {
      "cell_type": "code",
      "source": [
        "# 1.2 Imports & GPU check\n",
        "import torch, random, numpy as np, time, os, psutil\n",
        "\n",
        "if torch.cuda.is_available():\n",
        "    print(\"GPU:\", torch.cuda.get_device_name(0))\n",
        "else:\n",
        "    print(\"No GPU detected — training will be slow.\")"
      ],
      "metadata": {
        "colab": {
          "base_uri": "https://localhost:8080/",
          "height": 0
        },
        "id": "BUrxyJ50oqgd",
        "outputId": "0636ef53-5ad0-4f8c-cd36-0d201f89176c"
      },
      "execution_count": 11,
      "outputs": [
        {
          "output_type": "stream",
          "name": "stdout",
          "text": [
            "GPU: Tesla T4\n"
          ]
        }
      ]
    },
    {
      "cell_type": "code",
      "source": [
        "# 1.3 Set random seeds (reproducibility)\n",
        "SEED = 42\n",
        "\n",
        "random.seed(SEED)\n",
        "np.random.seed(SEED)\n",
        "torch.manual_seed(SEED)\n",
        "if torch.cuda.is_available():\n",
        "    torch.cuda.manual_seed_all(SEED)\n",
        "\n",
        "# (Optional) ensure deterministic behavior\n",
        "torch.backends.cudnn.deterministic = True\n",
        "torch.backends.cudnn.benchmark = False\n",
        "\n",
        "print(\"Seeds set:\", SEED)"
      ],
      "metadata": {
        "colab": {
          "base_uri": "https://localhost:8080/",
          "height": 0
        },
        "id": "6Fs8uB_MouIJ",
        "outputId": "bd1c0a1d-d48a-473b-fe8a-8f20f7d5aafd"
      },
      "execution_count": 12,
      "outputs": [
        {
          "output_type": "stream",
          "name": "stdout",
          "text": [
            "Seeds set: 42\n"
          ]
        }
      ]
    },
    {
      "cell_type": "code",
      "source": [
        "# 1.4 Utilities for logging parameters, runtime, and memory\n",
        "def count_trainable_params(model):\n",
        "    total = sum(p.numel() for p in model.parameters())\n",
        "    trainable = sum(p.numel() for p in model.parameters() if p.requires_grad)\n",
        "    pct = 100 * trainable / total if total else 0.0\n",
        "    return {\"total\": total, \"trainable\": trainable, \"pct\": pct}\n",
        "\n",
        "def start_timer():\n",
        "    if torch.cuda.is_available():\n",
        "        try:\n",
        "            torch.cuda.reset_peak_memory_stats()\n",
        "        except Exception:\n",
        "            pass\n",
        "    return time.time()\n",
        "\n",
        "def end_timer(t0):\n",
        "    elapsed_s = time.time() - t0\n",
        "    peak_vram_mb = None\n",
        "    if torch.cuda.is_available():\n",
        "        try:\n",
        "            peak_vram_mb = torch.cuda.max_memory_allocated() / 1e6\n",
        "        except Exception:\n",
        "            peak_vram_mb = None\n",
        "    return {\"elapsed_s\": elapsed_s, \"peak_vram_mb\": peak_vram_mb}\n",
        "\n",
        "print(\"Utils ready: count_trainable_params, start_timer, end_timer\")"
      ],
      "metadata": {
        "colab": {
          "base_uri": "https://localhost:8080/",
          "height": 0
        },
        "id": "Epf3nEBPowQH",
        "outputId": "2d4c8b1b-a023-4f33-92fc-d8bf053faca5"
      },
      "execution_count": 13,
      "outputs": [
        {
          "output_type": "stream",
          "name": "stdout",
          "text": [
            "Utils ready: count_trainable_params, start_timer, end_timer\n"
          ]
        }
      ]
    },
    {
      "cell_type": "markdown",
      "source": [
        "# 2) Data Ingestion\n",
        "\n",
        "I imported the AG News dataset from Kaggle, inspected its structure (`Class Index`, `Title`, `Description`), and merged the title and description into a single `text` field. We cleaned the dataset, mapped class indices (1–4) to labels (0–3 with names World, Sports, Business, Sci/Tech), and created train/validation/test splits."
      ],
      "metadata": {
        "id": "3UcFo42qo-iY"
      }
    },
    {
      "cell_type": "code",
      "source": [
        "# 2.1 Mount Google Drive\n",
        "from google.colab import drive\n",
        "drive.mount('/content/drive')"
      ],
      "metadata": {
        "colab": {
          "base_uri": "https://localhost:8080/",
          "height": 0
        },
        "id": "i6synFAnpEhw",
        "outputId": "52b40a58-adf8-4431-cf0f-4206197e1ff1"
      },
      "execution_count": 15,
      "outputs": [
        {
          "output_type": "stream",
          "name": "stdout",
          "text": [
            "Drive already mounted at /content/drive; to attempt to forcibly remount, call drive.mount(\"/content/drive\", force_remount=True).\n"
          ]
        }
      ]
    },
    {
      "cell_type": "code",
      "source": [
        "# 2.2 Set dataset paths\n",
        "DATA_DIR = \"/content/drive/MyDrive/assignment3/data\"\n",
        "TRAIN_CSV = f\"{DATA_DIR}/train.csv\"\n",
        "TEST_CSV  = f\"{DATA_DIR}/test.csv\"\n",
        "\n",
        "import os\n",
        "print(\"Found files?\" , os.path.exists(TRAIN_CSV), os.path.exists(TEST_CSV))\n",
        "print(\"Train CSV:\", TRAIN_CSV)\n",
        "print(\"Test  CSV:\", TEST_CSV)"
      ],
      "metadata": {
        "colab": {
          "base_uri": "https://localhost:8080/",
          "height": 0
        },
        "id": "YM782PMnpKR-",
        "outputId": "3d1fdf54-5a9d-4e25-ae70-5852cf3f61da"
      },
      "execution_count": 16,
      "outputs": [
        {
          "output_type": "stream",
          "name": "stdout",
          "text": [
            "Found files? True True\n",
            "Train CSV: /content/drive/MyDrive/assignment3/data/train.csv\n",
            "Test  CSV: /content/drive/MyDrive/assignment3/data/test.csv\n"
          ]
        }
      ]
    },
    {
      "cell_type": "code",
      "source": [
        "# 2.3 Load CSVs with pandas\n",
        "import pandas as pd\n",
        "\n",
        "train_df = pd.read_csv(TRAIN_CSV)\n",
        "test_df  = pd.read_csv(TEST_CSV)\n",
        "\n",
        "print(\"Train columns:\", train_df.columns.tolist())\n",
        "print(\"Test  columns:\", test_df.columns.tolist())\n",
        "print(\"Train size:\", len(train_df), \" Test size:\", len(test_df))\n",
        "train_df.head()"
      ],
      "metadata": {
        "colab": {
          "base_uri": "https://localhost:8080/",
          "height": 250
        },
        "id": "57LPO0FrpNdn",
        "outputId": "100b68a2-615a-4dd4-9c96-77c8935c337c"
      },
      "execution_count": 17,
      "outputs": [
        {
          "output_type": "stream",
          "name": "stdout",
          "text": [
            "Train columns: ['Class Index', 'Title', 'Description']\n",
            "Test  columns: ['Class Index', 'Title', 'Description']\n",
            "Train size: 120000  Test size: 7600\n"
          ]
        },
        {
          "output_type": "execute_result",
          "data": {
            "text/plain": [
              "   Class Index                                              Title  \\\n",
              "0            3  Wall St. Bears Claw Back Into the Black (Reuters)   \n",
              "1            3  Carlyle Looks Toward Commercial Aerospace (Reu...   \n",
              "2            3    Oil and Economy Cloud Stocks' Outlook (Reuters)   \n",
              "3            3  Iraq Halts Oil Exports from Main Southern Pipe...   \n",
              "4            3  Oil prices soar to all-time record, posing new...   \n",
              "\n",
              "                                         Description  \n",
              "0  Reuters - Short-sellers, Wall Street's dwindli...  \n",
              "1  Reuters - Private investment firm Carlyle Grou...  \n",
              "2  Reuters - Soaring crude prices plus worries\\ab...  \n",
              "3  Reuters - Authorities have halted oil export\\f...  \n",
              "4  AFP - Tearaway world oil prices, toppling reco...  "
            ],
            "text/html": [
              "\n",
              "  <div id=\"df-d6b3c716-1083-4b62-876f-f85a1ab1beb4\" class=\"colab-df-container\">\n",
              "    <div>\n",
              "<style scoped>\n",
              "    .dataframe tbody tr th:only-of-type {\n",
              "        vertical-align: middle;\n",
              "    }\n",
              "\n",
              "    .dataframe tbody tr th {\n",
              "        vertical-align: top;\n",
              "    }\n",
              "\n",
              "    .dataframe thead th {\n",
              "        text-align: right;\n",
              "    }\n",
              "</style>\n",
              "<table border=\"1\" class=\"dataframe\">\n",
              "  <thead>\n",
              "    <tr style=\"text-align: right;\">\n",
              "      <th></th>\n",
              "      <th>Class Index</th>\n",
              "      <th>Title</th>\n",
              "      <th>Description</th>\n",
              "    </tr>\n",
              "  </thead>\n",
              "  <tbody>\n",
              "    <tr>\n",
              "      <th>0</th>\n",
              "      <td>3</td>\n",
              "      <td>Wall St. Bears Claw Back Into the Black (Reuters)</td>\n",
              "      <td>Reuters - Short-sellers, Wall Street's dwindli...</td>\n",
              "    </tr>\n",
              "    <tr>\n",
              "      <th>1</th>\n",
              "      <td>3</td>\n",
              "      <td>Carlyle Looks Toward Commercial Aerospace (Reu...</td>\n",
              "      <td>Reuters - Private investment firm Carlyle Grou...</td>\n",
              "    </tr>\n",
              "    <tr>\n",
              "      <th>2</th>\n",
              "      <td>3</td>\n",
              "      <td>Oil and Economy Cloud Stocks' Outlook (Reuters)</td>\n",
              "      <td>Reuters - Soaring crude prices plus worries\\ab...</td>\n",
              "    </tr>\n",
              "    <tr>\n",
              "      <th>3</th>\n",
              "      <td>3</td>\n",
              "      <td>Iraq Halts Oil Exports from Main Southern Pipe...</td>\n",
              "      <td>Reuters - Authorities have halted oil export\\f...</td>\n",
              "    </tr>\n",
              "    <tr>\n",
              "      <th>4</th>\n",
              "      <td>3</td>\n",
              "      <td>Oil prices soar to all-time record, posing new...</td>\n",
              "      <td>AFP - Tearaway world oil prices, toppling reco...</td>\n",
              "    </tr>\n",
              "  </tbody>\n",
              "</table>\n",
              "</div>\n",
              "    <div class=\"colab-df-buttons\">\n",
              "\n",
              "  <div class=\"colab-df-container\">\n",
              "    <button class=\"colab-df-convert\" onclick=\"convertToInteractive('df-d6b3c716-1083-4b62-876f-f85a1ab1beb4')\"\n",
              "            title=\"Convert this dataframe to an interactive table.\"\n",
              "            style=\"display:none;\">\n",
              "\n",
              "  <svg xmlns=\"http://www.w3.org/2000/svg\" height=\"24px\" viewBox=\"0 -960 960 960\">\n",
              "    <path d=\"M120-120v-720h720v720H120Zm60-500h600v-160H180v160Zm220 220h160v-160H400v160Zm0 220h160v-160H400v160ZM180-400h160v-160H180v160Zm440 0h160v-160H620v160ZM180-180h160v-160H180v160Zm440 0h160v-160H620v160Z\"/>\n",
              "  </svg>\n",
              "    </button>\n",
              "\n",
              "  <style>\n",
              "    .colab-df-container {\n",
              "      display:flex;\n",
              "      gap: 12px;\n",
              "    }\n",
              "\n",
              "    .colab-df-convert {\n",
              "      background-color: #E8F0FE;\n",
              "      border: none;\n",
              "      border-radius: 50%;\n",
              "      cursor: pointer;\n",
              "      display: none;\n",
              "      fill: #1967D2;\n",
              "      height: 32px;\n",
              "      padding: 0 0 0 0;\n",
              "      width: 32px;\n",
              "    }\n",
              "\n",
              "    .colab-df-convert:hover {\n",
              "      background-color: #E2EBFA;\n",
              "      box-shadow: 0px 1px 2px rgba(60, 64, 67, 0.3), 0px 1px 3px 1px rgba(60, 64, 67, 0.15);\n",
              "      fill: #174EA6;\n",
              "    }\n",
              "\n",
              "    .colab-df-buttons div {\n",
              "      margin-bottom: 4px;\n",
              "    }\n",
              "\n",
              "    [theme=dark] .colab-df-convert {\n",
              "      background-color: #3B4455;\n",
              "      fill: #D2E3FC;\n",
              "    }\n",
              "\n",
              "    [theme=dark] .colab-df-convert:hover {\n",
              "      background-color: #434B5C;\n",
              "      box-shadow: 0px 1px 3px 1px rgba(0, 0, 0, 0.15);\n",
              "      filter: drop-shadow(0px 1px 2px rgba(0, 0, 0, 0.3));\n",
              "      fill: #FFFFFF;\n",
              "    }\n",
              "  </style>\n",
              "\n",
              "    <script>\n",
              "      const buttonEl =\n",
              "        document.querySelector('#df-d6b3c716-1083-4b62-876f-f85a1ab1beb4 button.colab-df-convert');\n",
              "      buttonEl.style.display =\n",
              "        google.colab.kernel.accessAllowed ? 'block' : 'none';\n",
              "\n",
              "      async function convertToInteractive(key) {\n",
              "        const element = document.querySelector('#df-d6b3c716-1083-4b62-876f-f85a1ab1beb4');\n",
              "        const dataTable =\n",
              "          await google.colab.kernel.invokeFunction('convertToInteractive',\n",
              "                                                    [key], {});\n",
              "        if (!dataTable) return;\n",
              "\n",
              "        const docLinkHtml = 'Like what you see? Visit the ' +\n",
              "          '<a target=\"_blank\" href=https://colab.research.google.com/notebooks/data_table.ipynb>data table notebook</a>'\n",
              "          + ' to learn more about interactive tables.';\n",
              "        element.innerHTML = '';\n",
              "        dataTable['output_type'] = 'display_data';\n",
              "        await google.colab.output.renderOutput(dataTable, element);\n",
              "        const docLink = document.createElement('div');\n",
              "        docLink.innerHTML = docLinkHtml;\n",
              "        element.appendChild(docLink);\n",
              "      }\n",
              "    </script>\n",
              "  </div>\n",
              "\n",
              "\n",
              "    <div id=\"df-45aafc14-68dc-49ae-bc59-678bfff2122f\">\n",
              "      <button class=\"colab-df-quickchart\" onclick=\"quickchart('df-45aafc14-68dc-49ae-bc59-678bfff2122f')\"\n",
              "                title=\"Suggest charts\"\n",
              "                style=\"display:none;\">\n",
              "\n",
              "<svg xmlns=\"http://www.w3.org/2000/svg\" height=\"24px\"viewBox=\"0 0 24 24\"\n",
              "     width=\"24px\">\n",
              "    <g>\n",
              "        <path d=\"M19 3H5c-1.1 0-2 .9-2 2v14c0 1.1.9 2 2 2h14c1.1 0 2-.9 2-2V5c0-1.1-.9-2-2-2zM9 17H7v-7h2v7zm4 0h-2V7h2v10zm4 0h-2v-4h2v4z\"/>\n",
              "    </g>\n",
              "</svg>\n",
              "      </button>\n",
              "\n",
              "<style>\n",
              "  .colab-df-quickchart {\n",
              "      --bg-color: #E8F0FE;\n",
              "      --fill-color: #1967D2;\n",
              "      --hover-bg-color: #E2EBFA;\n",
              "      --hover-fill-color: #174EA6;\n",
              "      --disabled-fill-color: #AAA;\n",
              "      --disabled-bg-color: #DDD;\n",
              "  }\n",
              "\n",
              "  [theme=dark] .colab-df-quickchart {\n",
              "      --bg-color: #3B4455;\n",
              "      --fill-color: #D2E3FC;\n",
              "      --hover-bg-color: #434B5C;\n",
              "      --hover-fill-color: #FFFFFF;\n",
              "      --disabled-bg-color: #3B4455;\n",
              "      --disabled-fill-color: #666;\n",
              "  }\n",
              "\n",
              "  .colab-df-quickchart {\n",
              "    background-color: var(--bg-color);\n",
              "    border: none;\n",
              "    border-radius: 50%;\n",
              "    cursor: pointer;\n",
              "    display: none;\n",
              "    fill: var(--fill-color);\n",
              "    height: 32px;\n",
              "    padding: 0;\n",
              "    width: 32px;\n",
              "  }\n",
              "\n",
              "  .colab-df-quickchart:hover {\n",
              "    background-color: var(--hover-bg-color);\n",
              "    box-shadow: 0 1px 2px rgba(60, 64, 67, 0.3), 0 1px 3px 1px rgba(60, 64, 67, 0.15);\n",
              "    fill: var(--button-hover-fill-color);\n",
              "  }\n",
              "\n",
              "  .colab-df-quickchart-complete:disabled,\n",
              "  .colab-df-quickchart-complete:disabled:hover {\n",
              "    background-color: var(--disabled-bg-color);\n",
              "    fill: var(--disabled-fill-color);\n",
              "    box-shadow: none;\n",
              "  }\n",
              "\n",
              "  .colab-df-spinner {\n",
              "    border: 2px solid var(--fill-color);\n",
              "    border-color: transparent;\n",
              "    border-bottom-color: var(--fill-color);\n",
              "    animation:\n",
              "      spin 1s steps(1) infinite;\n",
              "  }\n",
              "\n",
              "  @keyframes spin {\n",
              "    0% {\n",
              "      border-color: transparent;\n",
              "      border-bottom-color: var(--fill-color);\n",
              "      border-left-color: var(--fill-color);\n",
              "    }\n",
              "    20% {\n",
              "      border-color: transparent;\n",
              "      border-left-color: var(--fill-color);\n",
              "      border-top-color: var(--fill-color);\n",
              "    }\n",
              "    30% {\n",
              "      border-color: transparent;\n",
              "      border-left-color: var(--fill-color);\n",
              "      border-top-color: var(--fill-color);\n",
              "      border-right-color: var(--fill-color);\n",
              "    }\n",
              "    40% {\n",
              "      border-color: transparent;\n",
              "      border-right-color: var(--fill-color);\n",
              "      border-top-color: var(--fill-color);\n",
              "    }\n",
              "    60% {\n",
              "      border-color: transparent;\n",
              "      border-right-color: var(--fill-color);\n",
              "    }\n",
              "    80% {\n",
              "      border-color: transparent;\n",
              "      border-right-color: var(--fill-color);\n",
              "      border-bottom-color: var(--fill-color);\n",
              "    }\n",
              "    90% {\n",
              "      border-color: transparent;\n",
              "      border-bottom-color: var(--fill-color);\n",
              "    }\n",
              "  }\n",
              "</style>\n",
              "\n",
              "      <script>\n",
              "        async function quickchart(key) {\n",
              "          const quickchartButtonEl =\n",
              "            document.querySelector('#' + key + ' button');\n",
              "          quickchartButtonEl.disabled = true;  // To prevent multiple clicks.\n",
              "          quickchartButtonEl.classList.add('colab-df-spinner');\n",
              "          try {\n",
              "            const charts = await google.colab.kernel.invokeFunction(\n",
              "                'suggestCharts', [key], {});\n",
              "          } catch (error) {\n",
              "            console.error('Error during call to suggestCharts:', error);\n",
              "          }\n",
              "          quickchartButtonEl.classList.remove('colab-df-spinner');\n",
              "          quickchartButtonEl.classList.add('colab-df-quickchart-complete');\n",
              "        }\n",
              "        (() => {\n",
              "          let quickchartButtonEl =\n",
              "            document.querySelector('#df-45aafc14-68dc-49ae-bc59-678bfff2122f button');\n",
              "          quickchartButtonEl.style.display =\n",
              "            google.colab.kernel.accessAllowed ? 'block' : 'none';\n",
              "        })();\n",
              "      </script>\n",
              "    </div>\n",
              "\n",
              "    </div>\n",
              "  </div>\n"
            ],
            "application/vnd.google.colaboratory.intrinsic+json": {
              "type": "dataframe",
              "variable_name": "train_df"
            }
          },
          "metadata": {},
          "execution_count": 17
        }
      ]
    },
    {
      "cell_type": "markdown",
      "source": [
        "## 2.4 Data Cleaning and Preparation"
      ],
      "metadata": {
        "id": "PKoHvg0Bqz0z"
      }
    },
    {
      "cell_type": "code",
      "source": [
        "# 2.4.1 Check missing values (NA) before cleaning\n",
        "na_train = train_df.isna().sum()\n",
        "na_test  = test_df.isna().sum()\n",
        "print(\"NA counts (train):\\n\", na_train, \"\\n\")\n",
        "print(\"NA counts (test):\\n\",  na_test)"
      ],
      "metadata": {
        "colab": {
          "base_uri": "https://localhost:8080/",
          "height": 0
        },
        "id": "EcVQAdBzq4C0",
        "outputId": "64f36bf6-ca58-4d94-f569-57eb023980e2"
      },
      "execution_count": 18,
      "outputs": [
        {
          "output_type": "stream",
          "name": "stdout",
          "text": [
            "NA counts (train):\n",
            " Class Index    0\n",
            "Title          0\n",
            "Description    0\n",
            "dtype: int64 \n",
            "\n",
            "NA counts (test):\n",
            " Class Index    0\n",
            "Title          0\n",
            "Description    0\n",
            "dtype: int64\n"
          ]
        }
      ]
    },
    {
      "cell_type": "code",
      "source": [
        "# 2.4.2 Drop/Fill NA and keep only essential columns\n",
        "# - Keep rows with a label and at least a Title\n",
        "# - If Description is NA, fill with empty string (we'll still use Title)\n",
        "REQUIRED_LABEL_COL = \"Class Index\"\n",
        "TITLE_COL = \"Title\"\n",
        "DESC_COL  = \"Description\"\n",
        "\n",
        "# Ensure these columns exist (matching your CSV schema)\n",
        "assert all(c in train_df.columns for c in [REQUIRED_LABEL_COL, TITLE_COL, DESC_COL])\n",
        "assert all(c in test_df.columns  for c in [REQUIRED_LABEL_COL, TITLE_COL, DESC_COL])\n",
        "\n",
        "def clean_na(df):\n",
        "    df = df.copy()\n",
        "    # Drop rows with missing label or missing title\n",
        "    df = df[~df[REQUIRED_LABEL_COL].isna()]\n",
        "    df = df[~df[TITLE_COL].isna()]\n",
        "    # Fill missing descriptions with empty string\n",
        "    df[DESC_COL] = df[DESC_COL].fillna(\"\")\n",
        "    # Cast to proper types\n",
        "    df[REQUIRED_LABEL_COL] = df[REQUIRED_LABEL_COL].astype(int)\n",
        "    df[TITLE_COL] = df[TITLE_COL].astype(str)\n",
        "    df[DESC_COL]  = df[DESC_COL].astype(str)\n",
        "    return df\n",
        "\n",
        "train_df = clean_na(train_df)\n",
        "test_df  = clean_na(test_df)\n",
        "\n",
        "print(\"After NA handling → sizes:\", len(train_df), len(test_df))\n",
        "train_df.head()"
      ],
      "metadata": {
        "colab": {
          "base_uri": "https://localhost:8080/",
          "height": 217
        },
        "id": "y-J08kbAq7LG",
        "outputId": "a7eb4a9f-64c2-48d9-cf69-b43b85fe9201"
      },
      "execution_count": 19,
      "outputs": [
        {
          "output_type": "stream",
          "name": "stdout",
          "text": [
            "After NA handling → sizes: 120000 7600\n"
          ]
        },
        {
          "output_type": "execute_result",
          "data": {
            "text/plain": [
              "   Class Index                                              Title  \\\n",
              "0            3  Wall St. Bears Claw Back Into the Black (Reuters)   \n",
              "1            3  Carlyle Looks Toward Commercial Aerospace (Reu...   \n",
              "2            3    Oil and Economy Cloud Stocks' Outlook (Reuters)   \n",
              "3            3  Iraq Halts Oil Exports from Main Southern Pipe...   \n",
              "4            3  Oil prices soar to all-time record, posing new...   \n",
              "\n",
              "                                         Description  \n",
              "0  Reuters - Short-sellers, Wall Street's dwindli...  \n",
              "1  Reuters - Private investment firm Carlyle Grou...  \n",
              "2  Reuters - Soaring crude prices plus worries\\ab...  \n",
              "3  Reuters - Authorities have halted oil export\\f...  \n",
              "4  AFP - Tearaway world oil prices, toppling reco...  "
            ],
            "text/html": [
              "\n",
              "  <div id=\"df-18e99c38-e816-4ec9-b25c-f7d7b13e6621\" class=\"colab-df-container\">\n",
              "    <div>\n",
              "<style scoped>\n",
              "    .dataframe tbody tr th:only-of-type {\n",
              "        vertical-align: middle;\n",
              "    }\n",
              "\n",
              "    .dataframe tbody tr th {\n",
              "        vertical-align: top;\n",
              "    }\n",
              "\n",
              "    .dataframe thead th {\n",
              "        text-align: right;\n",
              "    }\n",
              "</style>\n",
              "<table border=\"1\" class=\"dataframe\">\n",
              "  <thead>\n",
              "    <tr style=\"text-align: right;\">\n",
              "      <th></th>\n",
              "      <th>Class Index</th>\n",
              "      <th>Title</th>\n",
              "      <th>Description</th>\n",
              "    </tr>\n",
              "  </thead>\n",
              "  <tbody>\n",
              "    <tr>\n",
              "      <th>0</th>\n",
              "      <td>3</td>\n",
              "      <td>Wall St. Bears Claw Back Into the Black (Reuters)</td>\n",
              "      <td>Reuters - Short-sellers, Wall Street's dwindli...</td>\n",
              "    </tr>\n",
              "    <tr>\n",
              "      <th>1</th>\n",
              "      <td>3</td>\n",
              "      <td>Carlyle Looks Toward Commercial Aerospace (Reu...</td>\n",
              "      <td>Reuters - Private investment firm Carlyle Grou...</td>\n",
              "    </tr>\n",
              "    <tr>\n",
              "      <th>2</th>\n",
              "      <td>3</td>\n",
              "      <td>Oil and Economy Cloud Stocks' Outlook (Reuters)</td>\n",
              "      <td>Reuters - Soaring crude prices plus worries\\ab...</td>\n",
              "    </tr>\n",
              "    <tr>\n",
              "      <th>3</th>\n",
              "      <td>3</td>\n",
              "      <td>Iraq Halts Oil Exports from Main Southern Pipe...</td>\n",
              "      <td>Reuters - Authorities have halted oil export\\f...</td>\n",
              "    </tr>\n",
              "    <tr>\n",
              "      <th>4</th>\n",
              "      <td>3</td>\n",
              "      <td>Oil prices soar to all-time record, posing new...</td>\n",
              "      <td>AFP - Tearaway world oil prices, toppling reco...</td>\n",
              "    </tr>\n",
              "  </tbody>\n",
              "</table>\n",
              "</div>\n",
              "    <div class=\"colab-df-buttons\">\n",
              "\n",
              "  <div class=\"colab-df-container\">\n",
              "    <button class=\"colab-df-convert\" onclick=\"convertToInteractive('df-18e99c38-e816-4ec9-b25c-f7d7b13e6621')\"\n",
              "            title=\"Convert this dataframe to an interactive table.\"\n",
              "            style=\"display:none;\">\n",
              "\n",
              "  <svg xmlns=\"http://www.w3.org/2000/svg\" height=\"24px\" viewBox=\"0 -960 960 960\">\n",
              "    <path d=\"M120-120v-720h720v720H120Zm60-500h600v-160H180v160Zm220 220h160v-160H400v160Zm0 220h160v-160H400v160ZM180-400h160v-160H180v160Zm440 0h160v-160H620v160ZM180-180h160v-160H180v160Zm440 0h160v-160H620v160Z\"/>\n",
              "  </svg>\n",
              "    </button>\n",
              "\n",
              "  <style>\n",
              "    .colab-df-container {\n",
              "      display:flex;\n",
              "      gap: 12px;\n",
              "    }\n",
              "\n",
              "    .colab-df-convert {\n",
              "      background-color: #E8F0FE;\n",
              "      border: none;\n",
              "      border-radius: 50%;\n",
              "      cursor: pointer;\n",
              "      display: none;\n",
              "      fill: #1967D2;\n",
              "      height: 32px;\n",
              "      padding: 0 0 0 0;\n",
              "      width: 32px;\n",
              "    }\n",
              "\n",
              "    .colab-df-convert:hover {\n",
              "      background-color: #E2EBFA;\n",
              "      box-shadow: 0px 1px 2px rgba(60, 64, 67, 0.3), 0px 1px 3px 1px rgba(60, 64, 67, 0.15);\n",
              "      fill: #174EA6;\n",
              "    }\n",
              "\n",
              "    .colab-df-buttons div {\n",
              "      margin-bottom: 4px;\n",
              "    }\n",
              "\n",
              "    [theme=dark] .colab-df-convert {\n",
              "      background-color: #3B4455;\n",
              "      fill: #D2E3FC;\n",
              "    }\n",
              "\n",
              "    [theme=dark] .colab-df-convert:hover {\n",
              "      background-color: #434B5C;\n",
              "      box-shadow: 0px 1px 3px 1px rgba(0, 0, 0, 0.15);\n",
              "      filter: drop-shadow(0px 1px 2px rgba(0, 0, 0, 0.3));\n",
              "      fill: #FFFFFF;\n",
              "    }\n",
              "  </style>\n",
              "\n",
              "    <script>\n",
              "      const buttonEl =\n",
              "        document.querySelector('#df-18e99c38-e816-4ec9-b25c-f7d7b13e6621 button.colab-df-convert');\n",
              "      buttonEl.style.display =\n",
              "        google.colab.kernel.accessAllowed ? 'block' : 'none';\n",
              "\n",
              "      async function convertToInteractive(key) {\n",
              "        const element = document.querySelector('#df-18e99c38-e816-4ec9-b25c-f7d7b13e6621');\n",
              "        const dataTable =\n",
              "          await google.colab.kernel.invokeFunction('convertToInteractive',\n",
              "                                                    [key], {});\n",
              "        if (!dataTable) return;\n",
              "\n",
              "        const docLinkHtml = 'Like what you see? Visit the ' +\n",
              "          '<a target=\"_blank\" href=https://colab.research.google.com/notebooks/data_table.ipynb>data table notebook</a>'\n",
              "          + ' to learn more about interactive tables.';\n",
              "        element.innerHTML = '';\n",
              "        dataTable['output_type'] = 'display_data';\n",
              "        await google.colab.output.renderOutput(dataTable, element);\n",
              "        const docLink = document.createElement('div');\n",
              "        docLink.innerHTML = docLinkHtml;\n",
              "        element.appendChild(docLink);\n",
              "      }\n",
              "    </script>\n",
              "  </div>\n",
              "\n",
              "\n",
              "    <div id=\"df-811e455e-7aed-46f9-a6d5-f2fa20de95ab\">\n",
              "      <button class=\"colab-df-quickchart\" onclick=\"quickchart('df-811e455e-7aed-46f9-a6d5-f2fa20de95ab')\"\n",
              "                title=\"Suggest charts\"\n",
              "                style=\"display:none;\">\n",
              "\n",
              "<svg xmlns=\"http://www.w3.org/2000/svg\" height=\"24px\"viewBox=\"0 0 24 24\"\n",
              "     width=\"24px\">\n",
              "    <g>\n",
              "        <path d=\"M19 3H5c-1.1 0-2 .9-2 2v14c0 1.1.9 2 2 2h14c1.1 0 2-.9 2-2V5c0-1.1-.9-2-2-2zM9 17H7v-7h2v7zm4 0h-2V7h2v10zm4 0h-2v-4h2v4z\"/>\n",
              "    </g>\n",
              "</svg>\n",
              "      </button>\n",
              "\n",
              "<style>\n",
              "  .colab-df-quickchart {\n",
              "      --bg-color: #E8F0FE;\n",
              "      --fill-color: #1967D2;\n",
              "      --hover-bg-color: #E2EBFA;\n",
              "      --hover-fill-color: #174EA6;\n",
              "      --disabled-fill-color: #AAA;\n",
              "      --disabled-bg-color: #DDD;\n",
              "  }\n",
              "\n",
              "  [theme=dark] .colab-df-quickchart {\n",
              "      --bg-color: #3B4455;\n",
              "      --fill-color: #D2E3FC;\n",
              "      --hover-bg-color: #434B5C;\n",
              "      --hover-fill-color: #FFFFFF;\n",
              "      --disabled-bg-color: #3B4455;\n",
              "      --disabled-fill-color: #666;\n",
              "  }\n",
              "\n",
              "  .colab-df-quickchart {\n",
              "    background-color: var(--bg-color);\n",
              "    border: none;\n",
              "    border-radius: 50%;\n",
              "    cursor: pointer;\n",
              "    display: none;\n",
              "    fill: var(--fill-color);\n",
              "    height: 32px;\n",
              "    padding: 0;\n",
              "    width: 32px;\n",
              "  }\n",
              "\n",
              "  .colab-df-quickchart:hover {\n",
              "    background-color: var(--hover-bg-color);\n",
              "    box-shadow: 0 1px 2px rgba(60, 64, 67, 0.3), 0 1px 3px 1px rgba(60, 64, 67, 0.15);\n",
              "    fill: var(--button-hover-fill-color);\n",
              "  }\n",
              "\n",
              "  .colab-df-quickchart-complete:disabled,\n",
              "  .colab-df-quickchart-complete:disabled:hover {\n",
              "    background-color: var(--disabled-bg-color);\n",
              "    fill: var(--disabled-fill-color);\n",
              "    box-shadow: none;\n",
              "  }\n",
              "\n",
              "  .colab-df-spinner {\n",
              "    border: 2px solid var(--fill-color);\n",
              "    border-color: transparent;\n",
              "    border-bottom-color: var(--fill-color);\n",
              "    animation:\n",
              "      spin 1s steps(1) infinite;\n",
              "  }\n",
              "\n",
              "  @keyframes spin {\n",
              "    0% {\n",
              "      border-color: transparent;\n",
              "      border-bottom-color: var(--fill-color);\n",
              "      border-left-color: var(--fill-color);\n",
              "    }\n",
              "    20% {\n",
              "      border-color: transparent;\n",
              "      border-left-color: var(--fill-color);\n",
              "      border-top-color: var(--fill-color);\n",
              "    }\n",
              "    30% {\n",
              "      border-color: transparent;\n",
              "      border-left-color: var(--fill-color);\n",
              "      border-top-color: var(--fill-color);\n",
              "      border-right-color: var(--fill-color);\n",
              "    }\n",
              "    40% {\n",
              "      border-color: transparent;\n",
              "      border-right-color: var(--fill-color);\n",
              "      border-top-color: var(--fill-color);\n",
              "    }\n",
              "    60% {\n",
              "      border-color: transparent;\n",
              "      border-right-color: var(--fill-color);\n",
              "    }\n",
              "    80% {\n",
              "      border-color: transparent;\n",
              "      border-right-color: var(--fill-color);\n",
              "      border-bottom-color: var(--fill-color);\n",
              "    }\n",
              "    90% {\n",
              "      border-color: transparent;\n",
              "      border-bottom-color: var(--fill-color);\n",
              "    }\n",
              "  }\n",
              "</style>\n",
              "\n",
              "      <script>\n",
              "        async function quickchart(key) {\n",
              "          const quickchartButtonEl =\n",
              "            document.querySelector('#' + key + ' button');\n",
              "          quickchartButtonEl.disabled = true;  // To prevent multiple clicks.\n",
              "          quickchartButtonEl.classList.add('colab-df-spinner');\n",
              "          try {\n",
              "            const charts = await google.colab.kernel.invokeFunction(\n",
              "                'suggestCharts', [key], {});\n",
              "          } catch (error) {\n",
              "            console.error('Error during call to suggestCharts:', error);\n",
              "          }\n",
              "          quickchartButtonEl.classList.remove('colab-df-spinner');\n",
              "          quickchartButtonEl.classList.add('colab-df-quickchart-complete');\n",
              "        }\n",
              "        (() => {\n",
              "          let quickchartButtonEl =\n",
              "            document.querySelector('#df-811e455e-7aed-46f9-a6d5-f2fa20de95ab button');\n",
              "          quickchartButtonEl.style.display =\n",
              "            google.colab.kernel.accessAllowed ? 'block' : 'none';\n",
              "        })();\n",
              "      </script>\n",
              "    </div>\n",
              "\n",
              "    </div>\n",
              "  </div>\n"
            ],
            "application/vnd.google.colaboratory.intrinsic+json": {
              "type": "dataframe",
              "variable_name": "train_df"
            }
          },
          "metadata": {},
          "execution_count": 19
        }
      ]
    },
    {
      "cell_type": "code",
      "source": [
        "# 2.4.3 Merge Title + Description into a single 'text' column\n",
        "def merge_text(df):\n",
        "    text = (df[TITLE_COL].str.strip() + \" \" + df[DESC_COL].str.strip()).str.strip()\n",
        "    return text\n",
        "\n",
        "train_df[\"text\"] = merge_text(train_df)\n",
        "test_df[\"text\"]  = merge_text(test_df)\n",
        "\n",
        "# Keep only needed columns going forward\n",
        "train_df = train_df[[REQUIRED_LABEL_COL, \"text\"]].reset_index(drop=True)\n",
        "test_df  = test_df[[REQUIRED_LABEL_COL, \"text\"]].reset_index(drop=True)\n",
        "\n",
        "train_df.head()"
      ],
      "metadata": {
        "colab": {
          "base_uri": "https://localhost:8080/",
          "height": 201
        },
        "id": "NIE0d0qxrQGY",
        "outputId": "3f88573c-f24c-4c02-9e48-48c9f2e57114"
      },
      "execution_count": 20,
      "outputs": [
        {
          "output_type": "execute_result",
          "data": {
            "text/plain": [
              "   Class Index                                               text\n",
              "0            3  Wall St. Bears Claw Back Into the Black (Reute...\n",
              "1            3  Carlyle Looks Toward Commercial Aerospace (Reu...\n",
              "2            3  Oil and Economy Cloud Stocks' Outlook (Reuters...\n",
              "3            3  Iraq Halts Oil Exports from Main Southern Pipe...\n",
              "4            3  Oil prices soar to all-time record, posing new..."
            ],
            "text/html": [
              "\n",
              "  <div id=\"df-5ee216d5-2402-41dd-829f-f99b7b5134a6\" class=\"colab-df-container\">\n",
              "    <div>\n",
              "<style scoped>\n",
              "    .dataframe tbody tr th:only-of-type {\n",
              "        vertical-align: middle;\n",
              "    }\n",
              "\n",
              "    .dataframe tbody tr th {\n",
              "        vertical-align: top;\n",
              "    }\n",
              "\n",
              "    .dataframe thead th {\n",
              "        text-align: right;\n",
              "    }\n",
              "</style>\n",
              "<table border=\"1\" class=\"dataframe\">\n",
              "  <thead>\n",
              "    <tr style=\"text-align: right;\">\n",
              "      <th></th>\n",
              "      <th>Class Index</th>\n",
              "      <th>text</th>\n",
              "    </tr>\n",
              "  </thead>\n",
              "  <tbody>\n",
              "    <tr>\n",
              "      <th>0</th>\n",
              "      <td>3</td>\n",
              "      <td>Wall St. Bears Claw Back Into the Black (Reute...</td>\n",
              "    </tr>\n",
              "    <tr>\n",
              "      <th>1</th>\n",
              "      <td>3</td>\n",
              "      <td>Carlyle Looks Toward Commercial Aerospace (Reu...</td>\n",
              "    </tr>\n",
              "    <tr>\n",
              "      <th>2</th>\n",
              "      <td>3</td>\n",
              "      <td>Oil and Economy Cloud Stocks' Outlook (Reuters...</td>\n",
              "    </tr>\n",
              "    <tr>\n",
              "      <th>3</th>\n",
              "      <td>3</td>\n",
              "      <td>Iraq Halts Oil Exports from Main Southern Pipe...</td>\n",
              "    </tr>\n",
              "    <tr>\n",
              "      <th>4</th>\n",
              "      <td>3</td>\n",
              "      <td>Oil prices soar to all-time record, posing new...</td>\n",
              "    </tr>\n",
              "  </tbody>\n",
              "</table>\n",
              "</div>\n",
              "    <div class=\"colab-df-buttons\">\n",
              "\n",
              "  <div class=\"colab-df-container\">\n",
              "    <button class=\"colab-df-convert\" onclick=\"convertToInteractive('df-5ee216d5-2402-41dd-829f-f99b7b5134a6')\"\n",
              "            title=\"Convert this dataframe to an interactive table.\"\n",
              "            style=\"display:none;\">\n",
              "\n",
              "  <svg xmlns=\"http://www.w3.org/2000/svg\" height=\"24px\" viewBox=\"0 -960 960 960\">\n",
              "    <path d=\"M120-120v-720h720v720H120Zm60-500h600v-160H180v160Zm220 220h160v-160H400v160Zm0 220h160v-160H400v160ZM180-400h160v-160H180v160Zm440 0h160v-160H620v160ZM180-180h160v-160H180v160Zm440 0h160v-160H620v160Z\"/>\n",
              "  </svg>\n",
              "    </button>\n",
              "\n",
              "  <style>\n",
              "    .colab-df-container {\n",
              "      display:flex;\n",
              "      gap: 12px;\n",
              "    }\n",
              "\n",
              "    .colab-df-convert {\n",
              "      background-color: #E8F0FE;\n",
              "      border: none;\n",
              "      border-radius: 50%;\n",
              "      cursor: pointer;\n",
              "      display: none;\n",
              "      fill: #1967D2;\n",
              "      height: 32px;\n",
              "      padding: 0 0 0 0;\n",
              "      width: 32px;\n",
              "    }\n",
              "\n",
              "    .colab-df-convert:hover {\n",
              "      background-color: #E2EBFA;\n",
              "      box-shadow: 0px 1px 2px rgba(60, 64, 67, 0.3), 0px 1px 3px 1px rgba(60, 64, 67, 0.15);\n",
              "      fill: #174EA6;\n",
              "    }\n",
              "\n",
              "    .colab-df-buttons div {\n",
              "      margin-bottom: 4px;\n",
              "    }\n",
              "\n",
              "    [theme=dark] .colab-df-convert {\n",
              "      background-color: #3B4455;\n",
              "      fill: #D2E3FC;\n",
              "    }\n",
              "\n",
              "    [theme=dark] .colab-df-convert:hover {\n",
              "      background-color: #434B5C;\n",
              "      box-shadow: 0px 1px 3px 1px rgba(0, 0, 0, 0.15);\n",
              "      filter: drop-shadow(0px 1px 2px rgba(0, 0, 0, 0.3));\n",
              "      fill: #FFFFFF;\n",
              "    }\n",
              "  </style>\n",
              "\n",
              "    <script>\n",
              "      const buttonEl =\n",
              "        document.querySelector('#df-5ee216d5-2402-41dd-829f-f99b7b5134a6 button.colab-df-convert');\n",
              "      buttonEl.style.display =\n",
              "        google.colab.kernel.accessAllowed ? 'block' : 'none';\n",
              "\n",
              "      async function convertToInteractive(key) {\n",
              "        const element = document.querySelector('#df-5ee216d5-2402-41dd-829f-f99b7b5134a6');\n",
              "        const dataTable =\n",
              "          await google.colab.kernel.invokeFunction('convertToInteractive',\n",
              "                                                    [key], {});\n",
              "        if (!dataTable) return;\n",
              "\n",
              "        const docLinkHtml = 'Like what you see? Visit the ' +\n",
              "          '<a target=\"_blank\" href=https://colab.research.google.com/notebooks/data_table.ipynb>data table notebook</a>'\n",
              "          + ' to learn more about interactive tables.';\n",
              "        element.innerHTML = '';\n",
              "        dataTable['output_type'] = 'display_data';\n",
              "        await google.colab.output.renderOutput(dataTable, element);\n",
              "        const docLink = document.createElement('div');\n",
              "        docLink.innerHTML = docLinkHtml;\n",
              "        element.appendChild(docLink);\n",
              "      }\n",
              "    </script>\n",
              "  </div>\n",
              "\n",
              "\n",
              "    <div id=\"df-c0a88c2b-dfe4-4a75-9371-16fcf7f539e4\">\n",
              "      <button class=\"colab-df-quickchart\" onclick=\"quickchart('df-c0a88c2b-dfe4-4a75-9371-16fcf7f539e4')\"\n",
              "                title=\"Suggest charts\"\n",
              "                style=\"display:none;\">\n",
              "\n",
              "<svg xmlns=\"http://www.w3.org/2000/svg\" height=\"24px\"viewBox=\"0 0 24 24\"\n",
              "     width=\"24px\">\n",
              "    <g>\n",
              "        <path d=\"M19 3H5c-1.1 0-2 .9-2 2v14c0 1.1.9 2 2 2h14c1.1 0 2-.9 2-2V5c0-1.1-.9-2-2-2zM9 17H7v-7h2v7zm4 0h-2V7h2v10zm4 0h-2v-4h2v4z\"/>\n",
              "    </g>\n",
              "</svg>\n",
              "      </button>\n",
              "\n",
              "<style>\n",
              "  .colab-df-quickchart {\n",
              "      --bg-color: #E8F0FE;\n",
              "      --fill-color: #1967D2;\n",
              "      --hover-bg-color: #E2EBFA;\n",
              "      --hover-fill-color: #174EA6;\n",
              "      --disabled-fill-color: #AAA;\n",
              "      --disabled-bg-color: #DDD;\n",
              "  }\n",
              "\n",
              "  [theme=dark] .colab-df-quickchart {\n",
              "      --bg-color: #3B4455;\n",
              "      --fill-color: #D2E3FC;\n",
              "      --hover-bg-color: #434B5C;\n",
              "      --hover-fill-color: #FFFFFF;\n",
              "      --disabled-bg-color: #3B4455;\n",
              "      --disabled-fill-color: #666;\n",
              "  }\n",
              "\n",
              "  .colab-df-quickchart {\n",
              "    background-color: var(--bg-color);\n",
              "    border: none;\n",
              "    border-radius: 50%;\n",
              "    cursor: pointer;\n",
              "    display: none;\n",
              "    fill: var(--fill-color);\n",
              "    height: 32px;\n",
              "    padding: 0;\n",
              "    width: 32px;\n",
              "  }\n",
              "\n",
              "  .colab-df-quickchart:hover {\n",
              "    background-color: var(--hover-bg-color);\n",
              "    box-shadow: 0 1px 2px rgba(60, 64, 67, 0.3), 0 1px 3px 1px rgba(60, 64, 67, 0.15);\n",
              "    fill: var(--button-hover-fill-color);\n",
              "  }\n",
              "\n",
              "  .colab-df-quickchart-complete:disabled,\n",
              "  .colab-df-quickchart-complete:disabled:hover {\n",
              "    background-color: var(--disabled-bg-color);\n",
              "    fill: var(--disabled-fill-color);\n",
              "    box-shadow: none;\n",
              "  }\n",
              "\n",
              "  .colab-df-spinner {\n",
              "    border: 2px solid var(--fill-color);\n",
              "    border-color: transparent;\n",
              "    border-bottom-color: var(--fill-color);\n",
              "    animation:\n",
              "      spin 1s steps(1) infinite;\n",
              "  }\n",
              "\n",
              "  @keyframes spin {\n",
              "    0% {\n",
              "      border-color: transparent;\n",
              "      border-bottom-color: var(--fill-color);\n",
              "      border-left-color: var(--fill-color);\n",
              "    }\n",
              "    20% {\n",
              "      border-color: transparent;\n",
              "      border-left-color: var(--fill-color);\n",
              "      border-top-color: var(--fill-color);\n",
              "    }\n",
              "    30% {\n",
              "      border-color: transparent;\n",
              "      border-left-color: var(--fill-color);\n",
              "      border-top-color: var(--fill-color);\n",
              "      border-right-color: var(--fill-color);\n",
              "    }\n",
              "    40% {\n",
              "      border-color: transparent;\n",
              "      border-right-color: var(--fill-color);\n",
              "      border-top-color: var(--fill-color);\n",
              "    }\n",
              "    60% {\n",
              "      border-color: transparent;\n",
              "      border-right-color: var(--fill-color);\n",
              "    }\n",
              "    80% {\n",
              "      border-color: transparent;\n",
              "      border-right-color: var(--fill-color);\n",
              "      border-bottom-color: var(--fill-color);\n",
              "    }\n",
              "    90% {\n",
              "      border-color: transparent;\n",
              "      border-bottom-color: var(--fill-color);\n",
              "    }\n",
              "  }\n",
              "</style>\n",
              "\n",
              "      <script>\n",
              "        async function quickchart(key) {\n",
              "          const quickchartButtonEl =\n",
              "            document.querySelector('#' + key + ' button');\n",
              "          quickchartButtonEl.disabled = true;  // To prevent multiple clicks.\n",
              "          quickchartButtonEl.classList.add('colab-df-spinner');\n",
              "          try {\n",
              "            const charts = await google.colab.kernel.invokeFunction(\n",
              "                'suggestCharts', [key], {});\n",
              "          } catch (error) {\n",
              "            console.error('Error during call to suggestCharts:', error);\n",
              "          }\n",
              "          quickchartButtonEl.classList.remove('colab-df-spinner');\n",
              "          quickchartButtonEl.classList.add('colab-df-quickchart-complete');\n",
              "        }\n",
              "        (() => {\n",
              "          let quickchartButtonEl =\n",
              "            document.querySelector('#df-c0a88c2b-dfe4-4a75-9371-16fcf7f539e4 button');\n",
              "          quickchartButtonEl.style.display =\n",
              "            google.colab.kernel.accessAllowed ? 'block' : 'none';\n",
              "        })();\n",
              "      </script>\n",
              "    </div>\n",
              "\n",
              "    </div>\n",
              "  </div>\n"
            ],
            "application/vnd.google.colaboratory.intrinsic+json": {
              "type": "dataframe",
              "variable_name": "train_df"
            }
          },
          "metadata": {},
          "execution_count": 20
        }
      ]
    },
    {
      "cell_type": "code",
      "source": [
        "# 2.4.4 Light text cleaning: remove control characters & normalize whitespace\n",
        "import re\n",
        "\n",
        "CTRL_CHARS = r'[\\r\\n\\t\\f\\v]+'\n",
        "ESC_SEQS   = r'\\\\[abfnrtv]'  # literal backslash escape sequences\n",
        "\n",
        "def normalize_text_series(s):\n",
        "    s = s.str.replace(CTRL_CHARS, ' ', regex=True)\n",
        "    s = s.str.replace(ESC_SEQS, ' ', regex=True)\n",
        "    s = s.str.replace(r'\\s+', ' ', regex=True).str.strip()\n",
        "    return s\n",
        "\n",
        "train_df[\"text\"] = normalize_text_series(train_df[\"text\"])\n",
        "test_df[\"text\"]  = normalize_text_series(test_df[\"text\"])\n",
        "\n",
        "train_df[\"text\"].head(3)"
      ],
      "metadata": {
        "colab": {
          "base_uri": "https://localhost:8080/",
          "height": 172
        },
        "id": "Dv-CKbWXrSWo",
        "outputId": "44c89705-c759-4461-fb8e-cbc7906dd6a0"
      },
      "execution_count": 21,
      "outputs": [
        {
          "output_type": "execute_result",
          "data": {
            "text/plain": [
              "0    Wall St. Bears Claw Back Into the Black (Reute...\n",
              "1    Carlyle Looks Toward Commercial Aerospace (Reu...\n",
              "2    Oil and Economy Cloud Stocks' Outlook (Reuters...\n",
              "Name: text, dtype: object"
            ],
            "text/html": [
              "<div>\n",
              "<style scoped>\n",
              "    .dataframe tbody tr th:only-of-type {\n",
              "        vertical-align: middle;\n",
              "    }\n",
              "\n",
              "    .dataframe tbody tr th {\n",
              "        vertical-align: top;\n",
              "    }\n",
              "\n",
              "    .dataframe thead th {\n",
              "        text-align: right;\n",
              "    }\n",
              "</style>\n",
              "<table border=\"1\" class=\"dataframe\">\n",
              "  <thead>\n",
              "    <tr style=\"text-align: right;\">\n",
              "      <th></th>\n",
              "      <th>text</th>\n",
              "    </tr>\n",
              "  </thead>\n",
              "  <tbody>\n",
              "    <tr>\n",
              "      <th>0</th>\n",
              "      <td>Wall St. Bears Claw Back Into the Black (Reute...</td>\n",
              "    </tr>\n",
              "    <tr>\n",
              "      <th>1</th>\n",
              "      <td>Carlyle Looks Toward Commercial Aerospace (Reu...</td>\n",
              "    </tr>\n",
              "    <tr>\n",
              "      <th>2</th>\n",
              "      <td>Oil and Economy Cloud Stocks' Outlook (Reuters...</td>\n",
              "    </tr>\n",
              "  </tbody>\n",
              "</table>\n",
              "</div><br><label><b>dtype:</b> object</label>"
            ]
          },
          "metadata": {},
          "execution_count": 21
        }
      ]
    },
    {
      "cell_type": "code",
      "source": [
        "# 2.4.5 Map Class Index (1..4) → labels (0..3) and attach label names\n",
        "# Canonical AG News mapping after shifting:\n",
        "# 0=World, 1=Sports, 2=Business, 3=Sci/Tech\n",
        "label_names = [\"World\", \"Sports\", \"Business\", \"Sci/Tech\"]\n",
        "\n",
        "def map_labels(df):\n",
        "    labels = df[REQUIRED_LABEL_COL].astype(int)\n",
        "    # Safety: ensure labels are within {1,2,3,4}, then shift\n",
        "    assert set(labels.unique()).issubset({1,2,3,4}), \"Unexpected label values outside 1..4\"\n",
        "    labels = labels - 1\n",
        "    df = df.copy()\n",
        "    df[\"labels\"] = labels\n",
        "    return df.drop(columns=[REQUIRED_LABEL_COL])\n",
        "\n",
        "train_df = map_labels(train_df)\n",
        "test_df  = map_labels(test_df)\n",
        "\n",
        "print(\"Unique labels (train):\", sorted(train_df[\"labels\"].unique()))\n",
        "print(\"Unique labels (test):\",  sorted(test_df[\"labels\"].unique()))\n",
        "train_df.head()"
      ],
      "metadata": {
        "colab": {
          "base_uri": "https://localhost:8080/",
          "height": 234
        },
        "id": "pHp-ebgnrXhq",
        "outputId": "404f312d-fafe-4eeb-f6b1-c95d33621b02"
      },
      "execution_count": 22,
      "outputs": [
        {
          "output_type": "stream",
          "name": "stdout",
          "text": [
            "Unique labels (train): [np.int64(0), np.int64(1), np.int64(2), np.int64(3)]\n",
            "Unique labels (test): [np.int64(0), np.int64(1), np.int64(2), np.int64(3)]\n"
          ]
        },
        {
          "output_type": "execute_result",
          "data": {
            "text/plain": [
              "                                                text  labels\n",
              "0  Wall St. Bears Claw Back Into the Black (Reute...       2\n",
              "1  Carlyle Looks Toward Commercial Aerospace (Reu...       2\n",
              "2  Oil and Economy Cloud Stocks' Outlook (Reuters...       2\n",
              "3  Iraq Halts Oil Exports from Main Southern Pipe...       2\n",
              "4  Oil prices soar to all-time record, posing new...       2"
            ],
            "text/html": [
              "\n",
              "  <div id=\"df-e921c050-990d-463a-9a4d-08146c36b799\" class=\"colab-df-container\">\n",
              "    <div>\n",
              "<style scoped>\n",
              "    .dataframe tbody tr th:only-of-type {\n",
              "        vertical-align: middle;\n",
              "    }\n",
              "\n",
              "    .dataframe tbody tr th {\n",
              "        vertical-align: top;\n",
              "    }\n",
              "\n",
              "    .dataframe thead th {\n",
              "        text-align: right;\n",
              "    }\n",
              "</style>\n",
              "<table border=\"1\" class=\"dataframe\">\n",
              "  <thead>\n",
              "    <tr style=\"text-align: right;\">\n",
              "      <th></th>\n",
              "      <th>text</th>\n",
              "      <th>labels</th>\n",
              "    </tr>\n",
              "  </thead>\n",
              "  <tbody>\n",
              "    <tr>\n",
              "      <th>0</th>\n",
              "      <td>Wall St. Bears Claw Back Into the Black (Reute...</td>\n",
              "      <td>2</td>\n",
              "    </tr>\n",
              "    <tr>\n",
              "      <th>1</th>\n",
              "      <td>Carlyle Looks Toward Commercial Aerospace (Reu...</td>\n",
              "      <td>2</td>\n",
              "    </tr>\n",
              "    <tr>\n",
              "      <th>2</th>\n",
              "      <td>Oil and Economy Cloud Stocks' Outlook (Reuters...</td>\n",
              "      <td>2</td>\n",
              "    </tr>\n",
              "    <tr>\n",
              "      <th>3</th>\n",
              "      <td>Iraq Halts Oil Exports from Main Southern Pipe...</td>\n",
              "      <td>2</td>\n",
              "    </tr>\n",
              "    <tr>\n",
              "      <th>4</th>\n",
              "      <td>Oil prices soar to all-time record, posing new...</td>\n",
              "      <td>2</td>\n",
              "    </tr>\n",
              "  </tbody>\n",
              "</table>\n",
              "</div>\n",
              "    <div class=\"colab-df-buttons\">\n",
              "\n",
              "  <div class=\"colab-df-container\">\n",
              "    <button class=\"colab-df-convert\" onclick=\"convertToInteractive('df-e921c050-990d-463a-9a4d-08146c36b799')\"\n",
              "            title=\"Convert this dataframe to an interactive table.\"\n",
              "            style=\"display:none;\">\n",
              "\n",
              "  <svg xmlns=\"http://www.w3.org/2000/svg\" height=\"24px\" viewBox=\"0 -960 960 960\">\n",
              "    <path d=\"M120-120v-720h720v720H120Zm60-500h600v-160H180v160Zm220 220h160v-160H400v160Zm0 220h160v-160H400v160ZM180-400h160v-160H180v160Zm440 0h160v-160H620v160ZM180-180h160v-160H180v160Zm440 0h160v-160H620v160Z\"/>\n",
              "  </svg>\n",
              "    </button>\n",
              "\n",
              "  <style>\n",
              "    .colab-df-container {\n",
              "      display:flex;\n",
              "      gap: 12px;\n",
              "    }\n",
              "\n",
              "    .colab-df-convert {\n",
              "      background-color: #E8F0FE;\n",
              "      border: none;\n",
              "      border-radius: 50%;\n",
              "      cursor: pointer;\n",
              "      display: none;\n",
              "      fill: #1967D2;\n",
              "      height: 32px;\n",
              "      padding: 0 0 0 0;\n",
              "      width: 32px;\n",
              "    }\n",
              "\n",
              "    .colab-df-convert:hover {\n",
              "      background-color: #E2EBFA;\n",
              "      box-shadow: 0px 1px 2px rgba(60, 64, 67, 0.3), 0px 1px 3px 1px rgba(60, 64, 67, 0.15);\n",
              "      fill: #174EA6;\n",
              "    }\n",
              "\n",
              "    .colab-df-buttons div {\n",
              "      margin-bottom: 4px;\n",
              "    }\n",
              "\n",
              "    [theme=dark] .colab-df-convert {\n",
              "      background-color: #3B4455;\n",
              "      fill: #D2E3FC;\n",
              "    }\n",
              "\n",
              "    [theme=dark] .colab-df-convert:hover {\n",
              "      background-color: #434B5C;\n",
              "      box-shadow: 0px 1px 3px 1px rgba(0, 0, 0, 0.15);\n",
              "      filter: drop-shadow(0px 1px 2px rgba(0, 0, 0, 0.3));\n",
              "      fill: #FFFFFF;\n",
              "    }\n",
              "  </style>\n",
              "\n",
              "    <script>\n",
              "      const buttonEl =\n",
              "        document.querySelector('#df-e921c050-990d-463a-9a4d-08146c36b799 button.colab-df-convert');\n",
              "      buttonEl.style.display =\n",
              "        google.colab.kernel.accessAllowed ? 'block' : 'none';\n",
              "\n",
              "      async function convertToInteractive(key) {\n",
              "        const element = document.querySelector('#df-e921c050-990d-463a-9a4d-08146c36b799');\n",
              "        const dataTable =\n",
              "          await google.colab.kernel.invokeFunction('convertToInteractive',\n",
              "                                                    [key], {});\n",
              "        if (!dataTable) return;\n",
              "\n",
              "        const docLinkHtml = 'Like what you see? Visit the ' +\n",
              "          '<a target=\"_blank\" href=https://colab.research.google.com/notebooks/data_table.ipynb>data table notebook</a>'\n",
              "          + ' to learn more about interactive tables.';\n",
              "        element.innerHTML = '';\n",
              "        dataTable['output_type'] = 'display_data';\n",
              "        await google.colab.output.renderOutput(dataTable, element);\n",
              "        const docLink = document.createElement('div');\n",
              "        docLink.innerHTML = docLinkHtml;\n",
              "        element.appendChild(docLink);\n",
              "      }\n",
              "    </script>\n",
              "  </div>\n",
              "\n",
              "\n",
              "    <div id=\"df-f6a2a9d9-be74-4868-ab81-a89176366167\">\n",
              "      <button class=\"colab-df-quickchart\" onclick=\"quickchart('df-f6a2a9d9-be74-4868-ab81-a89176366167')\"\n",
              "                title=\"Suggest charts\"\n",
              "                style=\"display:none;\">\n",
              "\n",
              "<svg xmlns=\"http://www.w3.org/2000/svg\" height=\"24px\"viewBox=\"0 0 24 24\"\n",
              "     width=\"24px\">\n",
              "    <g>\n",
              "        <path d=\"M19 3H5c-1.1 0-2 .9-2 2v14c0 1.1.9 2 2 2h14c1.1 0 2-.9 2-2V5c0-1.1-.9-2-2-2zM9 17H7v-7h2v7zm4 0h-2V7h2v10zm4 0h-2v-4h2v4z\"/>\n",
              "    </g>\n",
              "</svg>\n",
              "      </button>\n",
              "\n",
              "<style>\n",
              "  .colab-df-quickchart {\n",
              "      --bg-color: #E8F0FE;\n",
              "      --fill-color: #1967D2;\n",
              "      --hover-bg-color: #E2EBFA;\n",
              "      --hover-fill-color: #174EA6;\n",
              "      --disabled-fill-color: #AAA;\n",
              "      --disabled-bg-color: #DDD;\n",
              "  }\n",
              "\n",
              "  [theme=dark] .colab-df-quickchart {\n",
              "      --bg-color: #3B4455;\n",
              "      --fill-color: #D2E3FC;\n",
              "      --hover-bg-color: #434B5C;\n",
              "      --hover-fill-color: #FFFFFF;\n",
              "      --disabled-bg-color: #3B4455;\n",
              "      --disabled-fill-color: #666;\n",
              "  }\n",
              "\n",
              "  .colab-df-quickchart {\n",
              "    background-color: var(--bg-color);\n",
              "    border: none;\n",
              "    border-radius: 50%;\n",
              "    cursor: pointer;\n",
              "    display: none;\n",
              "    fill: var(--fill-color);\n",
              "    height: 32px;\n",
              "    padding: 0;\n",
              "    width: 32px;\n",
              "  }\n",
              "\n",
              "  .colab-df-quickchart:hover {\n",
              "    background-color: var(--hover-bg-color);\n",
              "    box-shadow: 0 1px 2px rgba(60, 64, 67, 0.3), 0 1px 3px 1px rgba(60, 64, 67, 0.15);\n",
              "    fill: var(--button-hover-fill-color);\n",
              "  }\n",
              "\n",
              "  .colab-df-quickchart-complete:disabled,\n",
              "  .colab-df-quickchart-complete:disabled:hover {\n",
              "    background-color: var(--disabled-bg-color);\n",
              "    fill: var(--disabled-fill-color);\n",
              "    box-shadow: none;\n",
              "  }\n",
              "\n",
              "  .colab-df-spinner {\n",
              "    border: 2px solid var(--fill-color);\n",
              "    border-color: transparent;\n",
              "    border-bottom-color: var(--fill-color);\n",
              "    animation:\n",
              "      spin 1s steps(1) infinite;\n",
              "  }\n",
              "\n",
              "  @keyframes spin {\n",
              "    0% {\n",
              "      border-color: transparent;\n",
              "      border-bottom-color: var(--fill-color);\n",
              "      border-left-color: var(--fill-color);\n",
              "    }\n",
              "    20% {\n",
              "      border-color: transparent;\n",
              "      border-left-color: var(--fill-color);\n",
              "      border-top-color: var(--fill-color);\n",
              "    }\n",
              "    30% {\n",
              "      border-color: transparent;\n",
              "      border-left-color: var(--fill-color);\n",
              "      border-top-color: var(--fill-color);\n",
              "      border-right-color: var(--fill-color);\n",
              "    }\n",
              "    40% {\n",
              "      border-color: transparent;\n",
              "      border-right-color: var(--fill-color);\n",
              "      border-top-color: var(--fill-color);\n",
              "    }\n",
              "    60% {\n",
              "      border-color: transparent;\n",
              "      border-right-color: var(--fill-color);\n",
              "    }\n",
              "    80% {\n",
              "      border-color: transparent;\n",
              "      border-right-color: var(--fill-color);\n",
              "      border-bottom-color: var(--fill-color);\n",
              "    }\n",
              "    90% {\n",
              "      border-color: transparent;\n",
              "      border-bottom-color: var(--fill-color);\n",
              "    }\n",
              "  }\n",
              "</style>\n",
              "\n",
              "      <script>\n",
              "        async function quickchart(key) {\n",
              "          const quickchartButtonEl =\n",
              "            document.querySelector('#' + key + ' button');\n",
              "          quickchartButtonEl.disabled = true;  // To prevent multiple clicks.\n",
              "          quickchartButtonEl.classList.add('colab-df-spinner');\n",
              "          try {\n",
              "            const charts = await google.colab.kernel.invokeFunction(\n",
              "                'suggestCharts', [key], {});\n",
              "          } catch (error) {\n",
              "            console.error('Error during call to suggestCharts:', error);\n",
              "          }\n",
              "          quickchartButtonEl.classList.remove('colab-df-spinner');\n",
              "          quickchartButtonEl.classList.add('colab-df-quickchart-complete');\n",
              "        }\n",
              "        (() => {\n",
              "          let quickchartButtonEl =\n",
              "            document.querySelector('#df-f6a2a9d9-be74-4868-ab81-a89176366167 button');\n",
              "          quickchartButtonEl.style.display =\n",
              "            google.colab.kernel.accessAllowed ? 'block' : 'none';\n",
              "        })();\n",
              "      </script>\n",
              "    </div>\n",
              "\n",
              "    </div>\n",
              "  </div>\n"
            ],
            "application/vnd.google.colaboratory.intrinsic+json": {
              "type": "dataframe",
              "variable_name": "train_df"
            }
          },
          "metadata": {},
          "execution_count": 22
        }
      ]
    },
    {
      "cell_type": "markdown",
      "source": [
        "## 2.5) Build HuggingFace DatasetDict and create a validation split (10%)\n"
      ],
      "metadata": {
        "id": "DSwix56Wr-sK"
      }
    },
    {
      "cell_type": "code",
      "source": [
        "from datasets import Dataset, DatasetDict\n",
        "from sklearn.model_selection import train_test_split\n",
        "\n",
        "train_df_split, val_df = train_df.pipe(\n",
        "    lambda df: train_test_split(\n",
        "        df, test_size=0.10, random_state=SEED, stratify=df[\"labels\"]\n",
        "    )\n",
        ")\n",
        "\n",
        "ds = DatasetDict({\n",
        "    \"train\": Dataset.from_pandas(train_df_split.reset_index(drop=True)),\n",
        "    \"validation\": Dataset.from_pandas(val_df.reset_index(drop=True)),\n",
        "    \"test\": Dataset.from_pandas(test_df.reset_index(drop=True)),\n",
        "})\n",
        "\n",
        "for split in ds:\n",
        "    print(f\"{split:10s}\", len(ds[split]))\n",
        "ds"
      ],
      "metadata": {
        "colab": {
          "base_uri": "https://localhost:8080/",
          "height": 0
        },
        "id": "RMHEVn7psA1q",
        "outputId": "f525cd30-8e16-436e-d56d-2017933d54e2"
      },
      "execution_count": 23,
      "outputs": [
        {
          "output_type": "stream",
          "name": "stdout",
          "text": [
            "train      108000\n",
            "validation 12000\n",
            "test       7600\n"
          ]
        },
        {
          "output_type": "execute_result",
          "data": {
            "text/plain": [
              "DatasetDict({\n",
              "    train: Dataset({\n",
              "        features: ['text', 'labels'],\n",
              "        num_rows: 108000\n",
              "    })\n",
              "    validation: Dataset({\n",
              "        features: ['text', 'labels'],\n",
              "        num_rows: 12000\n",
              "    })\n",
              "    test: Dataset({\n",
              "        features: ['text', 'labels'],\n",
              "        num_rows: 7600\n",
              "    })\n",
              "})"
            ]
          },
          "metadata": {},
          "execution_count": 23
        }
      ]
    },
    {
      "cell_type": "markdown",
      "source": [
        "## 2.6) Sanity checks: sample rows and label names"
      ],
      "metadata": {
        "id": "cBfDdxUesL14"
      }
    },
    {
      "cell_type": "code",
      "source": [
        "for split in [\"train\", \"validation\", \"test\"]:\n",
        "    ex = ds[split][0]\n",
        "    print(f\"[{split}] text[:100]: {ex['text'][:100]!r}\")\n",
        "    print(f\"[{split}] label id: {ex['labels']}  →  {label_names[ex['labels']]}\")\n",
        "    print(\"-\"*60)\n"
      ],
      "metadata": {
        "colab": {
          "base_uri": "https://localhost:8080/",
          "height": 0
        },
        "id": "mU8gSvbAsLiV",
        "outputId": "8bd8893f-8904-40e1-af74-225cbd59457e"
      },
      "execution_count": 24,
      "outputs": [
        {
          "output_type": "stream",
          "name": "stdout",
          "text": [
            "[train] text[:100]: '10 seconds that change everything ATHENS - Ten seconds. Barely time enough to tie a shoe, wash a gla'\n",
            "[train] label id: 1  →  Sports\n",
            "------------------------------------------------------------\n",
            "[validation] text[:100]: 'Orange Unveils 3G Phones in Long-Delayed Launch LONDON/PARIS (Reuters) - Orange unveiled its third-g'\n",
            "[validation] label id: 3  →  Sci/Tech\n",
            "------------------------------------------------------------\n",
            "[test] text[:100]: \"Fears for T N pension after talks Unions representing workers at Turner Newall say they are 'disappo\"\n",
            "[test] label id: 2  →  Business\n",
            "------------------------------------------------------------\n"
          ]
        }
      ]
    },
    {
      "cell_type": "markdown",
      "source": [
        "# 3) Data Exploration\n",
        "\n",
        "- I explored the dataset distribution across splits and confirmed each class was balanced. This gave confidence that the dataset was suitable for fair evaluation across all topics."
      ],
      "metadata": {
        "id": "jWKMe57xsyCp"
      }
    },
    {
      "cell_type": "code",
      "source": [
        "# Class distribution (train/val/test)\n",
        "import pandas as pd\n",
        "\n",
        "def dist_from_dataset(dset):\n",
        "    return pd.Series(dset[\"labels\"]).value_counts().sort_index()\n",
        "\n",
        "train_dist = dist_from_dataset(ds[\"train\"])\n",
        "val_dist   = dist_from_dataset(ds[\"validation\"])\n",
        "test_dist  = dist_from_dataset(ds[\"test\"])\n",
        "\n",
        "print(\"Label names:\", [\"0: World\", \"1: Sports\", \"2: Business\", \"3: Sci/Tech\"])\n",
        "print(\"\\nTrain distribution:\\n\", train_dist)\n",
        "print(\"\\nValidation distribution:\\n\", val_dist)\n",
        "print(\"\\nTest distribution:\\n\", test_dist)"
      ],
      "metadata": {
        "colab": {
          "base_uri": "https://localhost:8080/",
          "height": 0
        },
        "id": "SvCdmyXcs1SM",
        "outputId": "912e9ec3-7960-478a-dc1a-c5784ed3494f"
      },
      "execution_count": 25,
      "outputs": [
        {
          "output_type": "stream",
          "name": "stdout",
          "text": [
            "Label names: ['0: World', '1: Sports', '2: Business', '3: Sci/Tech']\n",
            "\n",
            "Train distribution:\n",
            " 0    27000\n",
            "1    27000\n",
            "2    27000\n",
            "3    27000\n",
            "Name: count, dtype: int64\n",
            "\n",
            "Validation distribution:\n",
            " 0    3000\n",
            "1    3000\n",
            "2    3000\n",
            "3    3000\n",
            "Name: count, dtype: int64\n",
            "\n",
            "Test distribution:\n",
            " 0    1900\n",
            "1    1900\n",
            "2    1900\n",
            "3    1900\n",
            "Name: count, dtype: int64\n"
          ]
        }
      ]
    },
    {
      "cell_type": "markdown",
      "source": [
        "# 4) Tokenization & Dataset Preparation\n",
        "\n",
        "I loaded the `distilbert-base-uncased` tokenizer and applied it to the dataset, truncating/padding texts to a maximum sequence length of 128. Tokenized outputs included `input_ids`, `attention_mask`, and labels, formatted for PyTorch training."
      ],
      "metadata": {
        "id": "r5THx2pPtVk1"
      }
    },
    {
      "cell_type": "code",
      "source": [
        "# 4.1 Load tokenizer & define label maps\n",
        "from transformers import AutoTokenizer\n",
        "\n",
        "MODEL_NAME = \"distilbert-base-uncased\"\n",
        "MAX_LEN = 128\n",
        "\n",
        "tokenizer = AutoTokenizer.from_pretrained(MODEL_NAME)\n",
        "\n",
        "id2label = {0: \"World\", 1: \"Sports\", 2: \"Business\", 3: \"Sci/Tech\"}\n",
        "label2id = {v: k for k, v in id2label.items()}\n",
        "\n",
        "print(\"Tokenizer loaded:\", MODEL_NAME)\n",
        "print(\"MAX_LEN:\", MAX_LEN)"
      ],
      "metadata": {
        "colab": {
          "base_uri": "https://localhost:8080/",
          "height": 0
        },
        "id": "s373KkAttWzP",
        "outputId": "957dfda6-9e68-4f09-c1f3-8f491a674433"
      },
      "execution_count": 26,
      "outputs": [
        {
          "output_type": "stream",
          "name": "stdout",
          "text": [
            "Tokenizer loaded: distilbert-base-uncased\n",
            "MAX_LEN: 128\n"
          ]
        }
      ]
    },
    {
      "cell_type": "code",
      "source": [
        "# 4.2 Tokenize datasets (headline+description already merged in 'text')\n",
        "def tokenize_batch(batch):\n",
        "    return tokenizer(\n",
        "        batch[\"text\"],\n",
        "        truncation=True,\n",
        "        padding=False,      # dynamic padding via data collator\n",
        "        max_length=MAX_LEN\n",
        "    )\n",
        "\n",
        "ds_tok = ds.map(tokenize_batch, batched=True, remove_columns=[])\n",
        "# Keep 'text' for error analysis; Trainer will ignore non-tensor columns when we set format.\n",
        "print(ds_tok)"
      ],
      "metadata": {
        "colab": {
          "base_uri": "https://localhost:8080/",
          "height": 343,
          "referenced_widgets": [
            "632dbc5b3f62435db2615c2efa8d0d56",
            "ee749437c26446f88f09af9c5df7db9a",
            "ce3050f564c04eec805b8c6021d66663",
            "d399b9bc59cf4d30926ef3633c753963",
            "c11620edf3324ff69c97dc76217eda80",
            "34fd4ab462e940eaa8857ed3f13dcdde",
            "7834640f4c4541e5ae1263088842c70c",
            "3b9930548e18418689d469e9a90ad3c9",
            "13ef9c678d204010a448d23e70d564a0",
            "99ec266bbd6d44de9a7911a60d9b8832",
            "ee3cd00a7717438c9d3201bbe6a15323",
            "41ea21a3bfdd4551b4f46528beea05dd",
            "af9897fac5a147a2981335a63183d841",
            "fa543a848fa748f98809545c94dd7132",
            "e5a0a15b9ddc4fe184e9412628f4c9a7",
            "7b1d6f37ae564b55bd310cc4fd890783",
            "1776e28f256e4c249c9080d424808899",
            "6514600560b848c38d5fb4768ba93e88",
            "097673a397a243c495795ff61e16e1b6",
            "f669eb4dd10d4bc7a1f09f360b1456e4",
            "14fdc1d313c84d8f84594e8de7d8d7e5",
            "ef1e64c53f1949d69daf12ec5d2d8d53",
            "9192f9c0b9a74463b3e330d668ddae5c",
            "e20fb243994f49b48b297963dbea0a27",
            "ba573a60693b4f089ba275facf83716c",
            "0aab6ad64f4441fbaa16ec8a0c1454f7",
            "26699d01c6e34a83a6194e6e080841c3",
            "99888a4958434b99a4fbddcf17a0e7c9",
            "b538e076855b4ee7bb2a38cdca58b237",
            "0023bb59d1c649d9afee87efbea0f81f",
            "64915a08370c472cba6cf5f4a6ebd2b0",
            "af55e76ed2204ff8bfd10b75f80c5076",
            "bbf32638cd884df9a214ac2609f8f04f"
          ]
        },
        "id": "fXKzvr0mtfAh",
        "outputId": "cc951da2-86f5-40eb-fcff-f0d6162df72a"
      },
      "execution_count": 27,
      "outputs": [
        {
          "output_type": "display_data",
          "data": {
            "text/plain": [
              "Map:   0%|          | 0/108000 [00:00<?, ? examples/s]"
            ],
            "application/vnd.jupyter.widget-view+json": {
              "version_major": 2,
              "version_minor": 0,
              "model_id": "632dbc5b3f62435db2615c2efa8d0d56"
            }
          },
          "metadata": {}
        },
        {
          "output_type": "display_data",
          "data": {
            "text/plain": [
              "Map:   0%|          | 0/12000 [00:00<?, ? examples/s]"
            ],
            "application/vnd.jupyter.widget-view+json": {
              "version_major": 2,
              "version_minor": 0,
              "model_id": "41ea21a3bfdd4551b4f46528beea05dd"
            }
          },
          "metadata": {}
        },
        {
          "output_type": "display_data",
          "data": {
            "text/plain": [
              "Map:   0%|          | 0/7600 [00:00<?, ? examples/s]"
            ],
            "application/vnd.jupyter.widget-view+json": {
              "version_major": 2,
              "version_minor": 0,
              "model_id": "9192f9c0b9a74463b3e330d668ddae5c"
            }
          },
          "metadata": {}
        },
        {
          "output_type": "stream",
          "name": "stdout",
          "text": [
            "DatasetDict({\n",
            "    train: Dataset({\n",
            "        features: ['text', 'labels', 'input_ids', 'attention_mask'],\n",
            "        num_rows: 108000\n",
            "    })\n",
            "    validation: Dataset({\n",
            "        features: ['text', 'labels', 'input_ids', 'attention_mask'],\n",
            "        num_rows: 12000\n",
            "    })\n",
            "    test: Dataset({\n",
            "        features: ['text', 'labels', 'input_ids', 'attention_mask'],\n",
            "        num_rows: 7600\n",
            "    })\n",
            "})\n"
          ]
        }
      ]
    },
    {
      "cell_type": "code",
      "source": [
        "# 4.3 Set PyTorch format for training (input_ids, attention_mask, labels)\n",
        "cols = [\"input_ids\", \"attention_mask\", \"labels\"]\n",
        "for split in [\"train\", \"validation\", \"test\"]:\n",
        "    ds_tok[split].set_format(type=\"torch\", columns=cols)\n",
        "\n",
        "print(\"Torch columns set:\", cols)\n",
        "for split in [\"train\",\"validation\",\"test\"]:\n",
        "    ex = ds_tok[split][0]\n",
        "    print(f\"{split} example shapes:\",\n",
        "          {k: tuple(v.shape) if hasattr(v, \"shape\") else type(v) for k, v in ex.items() if k in cols})"
      ],
      "metadata": {
        "colab": {
          "base_uri": "https://localhost:8080/",
          "height": 0
        },
        "id": "oNaJDy_StxB4",
        "outputId": "aa965361-97a2-4d5e-a43a-6e482f5a6b3e"
      },
      "execution_count": 28,
      "outputs": [
        {
          "output_type": "stream",
          "name": "stdout",
          "text": [
            "Torch columns set: ['input_ids', 'attention_mask', 'labels']\n",
            "train example shapes: {'labels': (), 'input_ids': (65,), 'attention_mask': (65,)}\n",
            "validation example shapes: {'labels': (), 'input_ids': (64,), 'attention_mask': (64,)}\n",
            "test example shapes: {'labels': (), 'input_ids': (32,), 'attention_mask': (32,)}\n"
          ]
        }
      ]
    },
    {
      "cell_type": "code",
      "source": [
        "# 4.4 Data collator & sanity-check a small batch\n",
        "from transformers import DataCollatorWithPadding\n",
        "from torch.utils.data import DataLoader\n",
        "\n",
        "data_collator = DataCollatorWithPadding(tokenizer=tokenizer, pad_to_multiple_of=None)  # dynamic padding\n",
        "\n",
        "train_loader_preview = DataLoader(\n",
        "    ds_tok[\"train\"],\n",
        "    batch_size=8,\n",
        "    shuffle=True,\n",
        "    collate_fn=data_collator\n",
        ")\n",
        "\n",
        "batch = next(iter(train_loader_preview))\n",
        "print(\"Batch keys:\", list(batch.keys()))\n",
        "print(\"input_ids shape:\", batch[\"input_ids\"].shape)\n",
        "print(\"attention_mask shape:\", batch[\"attention_mask\"].shape)\n",
        "print(\"labels shape:\", batch[\"labels\"].shape)\n",
        "print(\"Example input_ids first row (truncated):\", batch[\"input_ids\"][0][:30].tolist())"
      ],
      "metadata": {
        "colab": {
          "base_uri": "https://localhost:8080/",
          "height": 0
        },
        "id": "_qdAqxfftyeE",
        "outputId": "fde8ed7f-e198-4266-9bfa-cc150af78825"
      },
      "execution_count": 29,
      "outputs": [
        {
          "output_type": "stream",
          "name": "stdout",
          "text": [
            "Batch keys: ['labels', 'input_ids', 'attention_mask']\n",
            "input_ids shape: torch.Size([8, 72])\n",
            "attention_mask shape: torch.Size([8, 72])\n",
            "labels shape: torch.Size([8])\n",
            "Example input_ids first row (truncated): [101, 7802, 3364, 1011, 4883, 4018, 18922, 1999, 16571, 9011, 1011, 3185, 2732, 9158, 18922, 1010, 3781, 1010, 2343, 10778, 6097, 22068, 9692, 1011, 23882, 1001, 4464, 1025, 1055, 2364]\n"
          ]
        }
      ]
    },
    {
      "cell_type": "markdown",
      "source": [
        "# 5) Metrics & Evaluation Setup\n"
      ],
      "metadata": {
        "id": "FVT0BnePvimp"
      }
    },
    {
      "cell_type": "code",
      "source": [
        "# 5.1 Load metrics (Accuracy, Macro-F1) and define compute_metrics for Trainer\n",
        "import evaluate\n",
        "import numpy as np\n",
        "\n",
        "metric_acc = evaluate.load(\"accuracy\")\n",
        "metric_f1  = evaluate.load(\"f1\")\n",
        "\n",
        "def compute_metrics(eval_pred):\n",
        "    logits, labels = eval_pred\n",
        "    preds = np.argmax(logits, axis=-1)\n",
        "    acc  = metric_acc.compute(predictions=preds, references=labels)[\"accuracy\"]\n",
        "    mf1  = metric_f1.compute(predictions=preds, references=labels, average=\"macro\")[\"f1\"]\n",
        "    return {\"accuracy\": acc, \"macro_f1\": mf1}"
      ],
      "metadata": {
        "id": "ckJue7tKvlF9"
      },
      "execution_count": 30,
      "outputs": []
    },
    {
      "cell_type": "code",
      "source": [
        "# 5.2 Confusion matrix + classification report helpers\n",
        "from sklearn.metrics import confusion_matrix, classification_report\n",
        "import matplotlib.pyplot as plt\n",
        "\n",
        "label_names = [\"World\", \"Sports\", \"Business\", \"Sci/Tech\"]\n",
        "\n",
        "def plot_confusion_matrix(y_true, y_pred, labels=label_names, normalize=False, title=\"Confusion Matrix\"):\n",
        "    cm = confusion_matrix(y_true, y_pred)\n",
        "    if normalize:\n",
        "        cm = cm.astype(\"float\") / cm.sum(axis=1, keepdims=True).clip(min=1)\n",
        "    fig = plt.figure()\n",
        "    plt.imshow(cm, interpolation=\"nearest\")\n",
        "    plt.title(title + (\" (normalized)\" if normalize else \"\"))\n",
        "    plt.colorbar()\n",
        "    tick_marks = np.arange(len(labels))\n",
        "    plt.xticks(tick_marks, labels, rotation=45, ha=\"right\")\n",
        "    plt.yticks(tick_marks, labels)\n",
        "    thresh = cm.max() / 2. if cm.size else 0\n",
        "    for i in range(cm.shape[0]):\n",
        "        for j in range(cm.shape[1]):\n",
        "            val = f\"{cm[i, j]:.2f}\" if normalize else f\"{cm[i, j]:.0f}\"\n",
        "            plt.text(j, i, val,\n",
        "                     horizontalalignment=\"center\",\n",
        "                     verticalalignment=\"center\")\n",
        "    plt.ylabel(\"True label\")\n",
        "    plt.xlabel(\"Predicted label\")\n",
        "    plt.tight_layout()\n",
        "    plt.show()\n",
        "\n",
        "def print_classification_report(y_true, y_pred, labels=label_names):\n",
        "    print(classification_report(y_true, y_pred, target_names=labels, digits=4))"
      ],
      "metadata": {
        "id": "dRldgoc5vmqP"
      },
      "execution_count": 31,
      "outputs": []
    },
    {
      "cell_type": "code",
      "source": [
        "# 5.3 One-call evaluation helper to use after training\n",
        "# Usage later: preds, labels = evaluate_split(trainer, ds_tok[\"test\"], split_name=\"test\")\n",
        "def evaluate_split(trainer, dataset, split_name=\"eval\"):\n",
        "    out = trainer.predict(dataset)\n",
        "    logits, labels = out.predictions, out.label_ids\n",
        "    preds = np.argmax(logits, axis=-1)\n",
        "\n",
        "    # Core metrics (mirror Trainer's compute_metrics)\n",
        "    from statistics import mean\n",
        "    acc  = (preds == labels).mean()\n",
        "    # Macro-F1 via evaluate to stay consistent\n",
        "    mf1  = metric_f1.compute(predictions=preds, references=labels, average=\"macro\")[\"f1\"]\n",
        "\n",
        "    print(f\"[{split_name}] Accuracy: {acc:.4f} | Macro-F1: {mf1:.4f}\")\n",
        "    print_classification_report(labels, preds, labels=label_names)\n",
        "    plot_confusion_matrix(labels, preds, labels=label_names, normalize=False, title=f\"{split_name} Confusion\")\n",
        "    plot_confusion_matrix(labels, preds, labels=label_names, normalize=True,  title=f\"{split_name} Confusion\")\n",
        "\n",
        "    return preds, labels"
      ],
      "metadata": {
        "id": "L7zIfwjsvpWH"
      },
      "execution_count": 32,
      "outputs": []
    },
    {
      "cell_type": "markdown",
      "source": [
        "# 6) Baseline\n",
        "\n",
        "I trained a frozen DistilBERT model with only a linear classification head on top. This provided a lightweight baseline to compare against more resource-intensive strategies. Baseline achieved ~87% accuracy on the test set."
      ],
      "metadata": {
        "id": "CJVhVcmSwUIq"
      }
    },
    {
      "cell_type": "code",
      "source": [
        "# 6.1 Load DistilBERT classifier & freeze encoder (baseline)\n",
        "from transformers import AutoModelForSequenceClassification\n",
        "import torch\n",
        "\n",
        "MODEL_NAME = \"distilbert-base-uncased\"\n",
        "\n",
        "baseline_model = AutoModelForSequenceClassification.from_pretrained(\n",
        "    MODEL_NAME,\n",
        "    num_labels=4,\n",
        "    id2label={0:\"World\",1:\"Sports\",2:\"Business\",3:\"Sci/Tech\"},\n",
        "    label2id={\"World\":0,\"Sports\":1,\"Business\":2,\"Sci/Tech\":3}\n",
        ")\n",
        "\n",
        "# Freeze all encoder parameters; leave classifier head trainable\n",
        "for name, param in baseline_model.named_parameters():\n",
        "    if not name.startswith(\"classifier\"):  # DistilBERT head is \"classifier.*\"\n",
        "        param.requires_grad = False\n",
        "\n",
        "# Sanity: how many params are trainable?\n",
        "info = count_trainable_params(baseline_model)\n",
        "print(f\"Params (total): {info['total']:,} | (trainable): {info['trainable']:,} | {info['pct']:.4f}% trainable\")"
      ],
      "metadata": {
        "colab": {
          "base_uri": "https://localhost:8080/",
          "height": 0
        },
        "id": "9copjHO-wWA-",
        "outputId": "f58a390d-c173-4ae1-e3b4-d3af925d6410"
      },
      "execution_count": 33,
      "outputs": [
        {
          "output_type": "stream",
          "name": "stderr",
          "text": [
            "Some weights of DistilBertForSequenceClassification were not initialized from the model checkpoint at distilbert-base-uncased and are newly initialized: ['classifier.bias', 'classifier.weight', 'pre_classifier.bias', 'pre_classifier.weight']\n",
            "You should probably TRAIN this model on a down-stream task to be able to use it for predictions and inference.\n"
          ]
        },
        {
          "output_type": "stream",
          "name": "stdout",
          "text": [
            "Params (total): 66,956,548 | (trainable): 3,076 | 0.0046% trainable\n"
          ]
        }
      ]
    },
    {
      "cell_type": "code",
      "source": [
        "# 6.2 TrainingArguments\n",
        "from transformers import TrainingArguments\n",
        "import torch\n",
        "\n",
        "args_baseline = TrainingArguments(\n",
        "    output_dir=\"./runs_baseline_tmp\",\n",
        "    per_device_train_batch_size=32,\n",
        "    per_device_eval_batch_size=64,\n",
        "    learning_rate=5e-4,\n",
        "    num_train_epochs=2,          # quick baseline\n",
        "    eval_strategy=\"epoch\",\n",
        "    logging_strategy=\"steps\",\n",
        "    logging_steps=50,\n",
        "    save_strategy=\"no\",\n",
        "    load_best_model_at_end=False,\n",
        "    fp16=torch.cuda.is_available(),\n",
        "    report_to=\"none\",\n",
        "    seed=42,\n",
        ")\n",
        "\n",
        "print(args_baseline)"
      ],
      "metadata": {
        "colab": {
          "base_uri": "https://localhost:8080/",
          "height": 0
        },
        "id": "vioJhXpAynO8",
        "outputId": "ccbbbfb9-9e00-4799-99da-e8b14e3d32f9"
      },
      "execution_count": 34,
      "outputs": [
        {
          "output_type": "stream",
          "name": "stdout",
          "text": [
            "TrainingArguments(\n",
            "_n_gpu=1,\n",
            "accelerator_config={'split_batches': False, 'dispatch_batches': None, 'even_batches': True, 'use_seedable_sampler': True, 'non_blocking': False, 'gradient_accumulation_kwargs': None, 'use_configured_state': False},\n",
            "adafactor=False,\n",
            "adam_beta1=0.9,\n",
            "adam_beta2=0.999,\n",
            "adam_epsilon=1e-08,\n",
            "auto_find_batch_size=False,\n",
            "average_tokens_across_devices=False,\n",
            "batch_eval_metrics=False,\n",
            "bf16=False,\n",
            "bf16_full_eval=False,\n",
            "data_seed=None,\n",
            "dataloader_drop_last=False,\n",
            "dataloader_num_workers=0,\n",
            "dataloader_persistent_workers=False,\n",
            "dataloader_pin_memory=True,\n",
            "dataloader_prefetch_factor=None,\n",
            "ddp_backend=None,\n",
            "ddp_broadcast_buffers=None,\n",
            "ddp_bucket_cap_mb=None,\n",
            "ddp_find_unused_parameters=None,\n",
            "ddp_timeout=1800,\n",
            "debug=[],\n",
            "deepspeed=None,\n",
            "disable_tqdm=False,\n",
            "do_eval=True,\n",
            "do_predict=False,\n",
            "do_train=False,\n",
            "eval_accumulation_steps=None,\n",
            "eval_delay=0,\n",
            "eval_do_concat_batches=True,\n",
            "eval_on_start=False,\n",
            "eval_steps=None,\n",
            "eval_strategy=IntervalStrategy.EPOCH,\n",
            "eval_use_gather_object=False,\n",
            "fp16=True,\n",
            "fp16_backend=auto,\n",
            "fp16_full_eval=False,\n",
            "fp16_opt_level=O1,\n",
            "fsdp=[],\n",
            "fsdp_config={'min_num_params': 0, 'xla': False, 'xla_fsdp_v2': False, 'xla_fsdp_grad_ckpt': False},\n",
            "fsdp_min_num_params=0,\n",
            "fsdp_transformer_layer_cls_to_wrap=None,\n",
            "full_determinism=False,\n",
            "gradient_accumulation_steps=1,\n",
            "gradient_checkpointing=False,\n",
            "gradient_checkpointing_kwargs=None,\n",
            "greater_is_better=None,\n",
            "group_by_length=False,\n",
            "half_precision_backend=auto,\n",
            "hub_always_push=False,\n",
            "hub_model_id=None,\n",
            "hub_private_repo=None,\n",
            "hub_strategy=HubStrategy.EVERY_SAVE,\n",
            "hub_token=<HUB_TOKEN>,\n",
            "ignore_data_skip=False,\n",
            "include_for_metrics=[],\n",
            "include_inputs_for_metrics=False,\n",
            "include_num_input_tokens_seen=False,\n",
            "include_tokens_per_second=False,\n",
            "jit_mode_eval=False,\n",
            "label_names=None,\n",
            "label_smoothing_factor=0.0,\n",
            "learning_rate=0.0005,\n",
            "length_column_name=length,\n",
            "load_best_model_at_end=False,\n",
            "local_rank=0,\n",
            "log_level=passive,\n",
            "log_level_replica=warning,\n",
            "log_on_each_node=True,\n",
            "logging_dir=./runs_baseline_tmp/runs/Oct16_07-46-25_8618003ca343,\n",
            "logging_first_step=False,\n",
            "logging_nan_inf_filter=True,\n",
            "logging_steps=50,\n",
            "logging_strategy=IntervalStrategy.STEPS,\n",
            "lr_scheduler_kwargs={},\n",
            "lr_scheduler_type=SchedulerType.LINEAR,\n",
            "max_grad_norm=1.0,\n",
            "max_steps=-1,\n",
            "metric_for_best_model=None,\n",
            "mp_parameters=,\n",
            "neftune_noise_alpha=None,\n",
            "no_cuda=False,\n",
            "num_train_epochs=2,\n",
            "optim=OptimizerNames.ADAMW_TORCH,\n",
            "optim_args=None,\n",
            "optim_target_modules=None,\n",
            "output_dir=./runs_baseline_tmp,\n",
            "overwrite_output_dir=False,\n",
            "past_index=-1,\n",
            "per_device_eval_batch_size=64,\n",
            "per_device_train_batch_size=32,\n",
            "prediction_loss_only=False,\n",
            "push_to_hub=False,\n",
            "push_to_hub_model_id=None,\n",
            "push_to_hub_organization=None,\n",
            "push_to_hub_token=<PUSH_TO_HUB_TOKEN>,\n",
            "ray_scope=last,\n",
            "remove_unused_columns=True,\n",
            "report_to=[],\n",
            "restore_callback_states_from_checkpoint=False,\n",
            "resume_from_checkpoint=None,\n",
            "run_name=./runs_baseline_tmp,\n",
            "save_on_each_node=False,\n",
            "save_only_model=False,\n",
            "save_safetensors=True,\n",
            "save_steps=500,\n",
            "save_strategy=SaveStrategy.NO,\n",
            "save_total_limit=None,\n",
            "seed=42,\n",
            "skip_memory_metrics=True,\n",
            "tf32=None,\n",
            "torch_compile=False,\n",
            "torch_compile_backend=None,\n",
            "torch_compile_mode=None,\n",
            "torch_empty_cache_steps=None,\n",
            "torchdynamo=None,\n",
            "tp_size=0,\n",
            "tpu_metrics_debug=False,\n",
            "tpu_num_cores=None,\n",
            "use_cpu=False,\n",
            "use_ipex=False,\n",
            "use_legacy_prediction_loop=False,\n",
            "use_liger_kernel=False,\n",
            "use_mps_device=False,\n",
            "warmup_ratio=0.0,\n",
            "warmup_steps=0,\n",
            "weight_decay=0.0,\n",
            ")\n"
          ]
        }
      ]
    },
    {
      "cell_type": "code",
      "source": [
        "# 6.3 Train baseline\n",
        "from transformers import Trainer\n",
        "\n",
        "trainer_baseline = Trainer(\n",
        "    model=baseline_model,\n",
        "    args=args_baseline,\n",
        "    train_dataset=ds_tok[\"train\"],\n",
        "    eval_dataset=ds_tok[\"validation\"],\n",
        "    tokenizer=tokenizer,\n",
        "    data_collator=data_collator,\n",
        "    compute_metrics=compute_metrics,\n",
        ")\n",
        "\n",
        "t0 = start_timer()\n",
        "train_out = trainer_baseline.train()\n",
        "timing = end_timer(t0)\n",
        "\n",
        "print(train_out)\n",
        "print(f\"Elapsed (s): {timing['elapsed_s']:.2f}\")\n",
        "print(f\"Peak VRAM (MB): {timing['peak_vram_mb']:.1f}\" if timing['peak_vram_mb'] is not None else \"Peak VRAM: n/a\")"
      ],
      "metadata": {
        "colab": {
          "base_uri": "https://localhost:8080/",
          "height": 237
        },
        "id": "F7MG060SytW3",
        "outputId": "da96dd79-7dd7-4d49-a88a-c8a1de510e17"
      },
      "execution_count": 35,
      "outputs": [
        {
          "output_type": "stream",
          "name": "stderr",
          "text": [
            "/tmp/ipython-input-4106855703.py:4: FutureWarning: `tokenizer` is deprecated and will be removed in version 5.0.0 for `Trainer.__init__`. Use `processing_class` instead.\n",
            "  trainer_baseline = Trainer(\n"
          ]
        },
        {
          "output_type": "display_data",
          "data": {
            "text/plain": [
              "<IPython.core.display.HTML object>"
            ],
            "text/html": [
              "\n",
              "    <div>\n",
              "      \n",
              "      <progress value='6750' max='6750' style='width:300px; height:20px; vertical-align: middle;'></progress>\n",
              "      [6750/6750 03:20, Epoch 2/2]\n",
              "    </div>\n",
              "    <table border=\"1\" class=\"dataframe\">\n",
              "  <thead>\n",
              " <tr style=\"text-align: left;\">\n",
              "      <th>Epoch</th>\n",
              "      <th>Training Loss</th>\n",
              "      <th>Validation Loss</th>\n",
              "      <th>Accuracy</th>\n",
              "      <th>Macro F1</th>\n",
              "    </tr>\n",
              "  </thead>\n",
              "  <tbody>\n",
              "    <tr>\n",
              "      <td>1</td>\n",
              "      <td>0.427700</td>\n",
              "      <td>0.403718</td>\n",
              "      <td>0.870083</td>\n",
              "      <td>0.869968</td>\n",
              "    </tr>\n",
              "    <tr>\n",
              "      <td>2</td>\n",
              "      <td>0.402600</td>\n",
              "      <td>0.380012</td>\n",
              "      <td>0.872167</td>\n",
              "      <td>0.871999</td>\n",
              "    </tr>\n",
              "  </tbody>\n",
              "</table><p>"
            ]
          },
          "metadata": {}
        },
        {
          "output_type": "stream",
          "name": "stdout",
          "text": [
            "TrainOutput(global_step=6750, training_loss=0.5073841821176034, metrics={'train_runtime': 201.0716, 'train_samples_per_second': 1074.244, 'train_steps_per_second': 33.57, 'total_flos': 5856783003837696.0, 'train_loss': 0.5073841821176034, 'epoch': 2.0})\n",
            "Elapsed (s): 201.44\n",
            "Peak VRAM (MB): 467.1\n"
          ]
        }
      ]
    },
    {
      "cell_type": "code",
      "source": [
        "# 6.4 Evaluate baseline on validation and test\n",
        "print(\"== Baseline: Validation ==\")\n",
        "_ = evaluate_split(trainer_baseline, ds_tok[\"validation\"], split_name=\"validation\")\n",
        "\n",
        "print(\"== Baseline: Test ==\")\n",
        "_ = evaluate_split(trainer_baseline, ds_tok[\"test\"], split_name=\"test\")"
      ],
      "metadata": {
        "colab": {
          "base_uri": "https://localhost:8080/",
          "height": 2324
        },
        "id": "_goRZFnHzG1r",
        "outputId": "76cefb5d-74fb-4768-f0ce-9005aff3ac50"
      },
      "execution_count": 36,
      "outputs": [
        {
          "output_type": "stream",
          "name": "stdout",
          "text": [
            "== Baseline: Validation ==\n"
          ]
        },
        {
          "output_type": "display_data",
          "data": {
            "text/plain": [
              "<IPython.core.display.HTML object>"
            ],
            "text/html": []
          },
          "metadata": {}
        },
        {
          "output_type": "stream",
          "name": "stdout",
          "text": [
            "[validation] Accuracy: 0.8722 | Macro-F1: 0.8720\n",
            "              precision    recall  f1-score   support\n",
            "\n",
            "       World     0.8718    0.8770    0.8744      3000\n",
            "      Sports     0.9516    0.9573    0.9545      3000\n",
            "    Business     0.8340    0.8107    0.8222      3000\n",
            "    Sci/Tech     0.8304    0.8437    0.8370      3000\n",
            "\n",
            "    accuracy                         0.8722     12000\n",
            "   macro avg     0.8719    0.8722    0.8720     12000\n",
            "weighted avg     0.8719    0.8722    0.8720     12000\n",
            "\n"
          ]
        },
        {
          "output_type": "display_data",
          "data": {
            "text/plain": [
              "<Figure size 640x480 with 2 Axes>"
            ],
            "image/png": "[encoded data removed]"
          },
          "metadata": {}
        },
        {
          "output_type": "display_data",
          "data": {
            "text/plain": [
              "<Figure size 640x480 with 2 Axes>"
            ],
            "image/png": "[encoded data removed]"
          },
          "metadata": {}
        },
        {
          "output_type": "stream",
          "name": "stdout",
          "text": [
            "== Baseline: Test ==\n"
          ]
        },
        {
          "output_type": "display_data",
          "data": {
            "text/plain": [
              "<IPython.core.display.HTML object>"
            ],
            "text/html": []
          },
          "metadata": {}
        },
        {
          "output_type": "stream",
          "name": "stdout",
          "text": [
            "[test] Accuracy: 0.8737 | Macro-F1: 0.8736\n",
            "              precision    recall  f1-score   support\n",
            "\n",
            "       World     0.8763    0.8726    0.8745      1900\n",
            "      Sports     0.9540    0.9600    0.9570      1900\n",
            "    Business     0.8270    0.8153    0.8211      1900\n",
            "    Sci/Tech     0.8367    0.8468    0.8417      1900\n",
            "\n",
            "    accuracy                         0.8737      7600\n",
            "   macro avg     0.8735    0.8737    0.8736      7600\n",
            "weighted avg     0.8735    0.8737    0.8736      7600\n",
            "\n"
          ]
        },
        {
          "output_type": "display_data",
          "data": {
            "text/plain": [
              "<Figure size 640x480 with 2 Axes>"
            ],
            "image/png": "[encoded data removed]"
          },
          "metadata": {}
        },
        {
          "output_type": "display_data",
          "data": {
            "text/plain": [
              "<Figure size 640x480 with 2 Axes>"
            ],
            "image/png": "[encoded data removed]"
          },
          "metadata": {}
        }
      ]
    },
    {
      "cell_type": "code",
      "source": [
        "# 6.5 (Optional) Record baseline metrics for later comparison tables\n",
        "baseline_summary = {\n",
        "    \"method\": \"Baseline-Frozen+Linear\",\n",
        "    \"trainable_pct\": info[\"pct\"],\n",
        "    \"elapsed_s\": timing[\"elapsed_s\"],\n",
        "    \"peak_vram_mb\": timing[\"peak_vram_mb\"],\n",
        "}\n",
        "print(baseline_summary)"
      ],
      "metadata": {
        "colab": {
          "base_uri": "https://localhost:8080/",
          "height": 0
        },
        "id": "pURms3UTzIQ-",
        "outputId": "e8bfaadf-042c-47d6-fb0e-f0a49f4848fb"
      },
      "execution_count": 37,
      "outputs": [
        {
          "output_type": "stream",
          "name": "stdout",
          "text": [
            "{'method': 'Baseline-Frozen+Linear', 'trainable_pct': 0.004594024172213896, 'elapsed_s': 201.44227719306946, 'peak_vram_mb': 467.062272}\n"
          ]
        }
      ]
    },
    {
      "cell_type": "code",
      "source": [
        "# 6.6 Global experiment settings (seeds & early stopping)\n",
        "SEEDS = [42, 43, 44]  # for mean ± std\n",
        "from transformers import EarlyStoppingCallback\n",
        "ES_CALLBACKS = [EarlyStoppingCallback(early_stopping_patience=1, early_stopping_threshold=0.0)]\n",
        "print(\"SEEDS:\", SEEDS, \"| EarlyStopping: patience=1\")"
      ],
      "metadata": {
        "colab": {
          "base_uri": "https://localhost:8080/",
          "height": 0
        },
        "id": "o8j0HZarGy6u",
        "outputId": "d4f9c4b8-8d20-4398-de76-3cc8179e0d54"
      },
      "execution_count": 43,
      "outputs": [
        {
          "output_type": "stream",
          "name": "stdout",
          "text": [
            "SEEDS: [42, 43, 44] | EarlyStopping: patience=1\n"
          ]
        }
      ]
    },
    {
      "cell_type": "code",
      "source": [
        "# 6.7 Simple results registry (so we can build tables later)\n",
        "import time, numpy as np, pandas as pd\n",
        "\n",
        "RUNS = []  # list of dicts\n",
        "\n",
        "def record_run(method, hparams, trainer, timing, split=\"test\"):\n",
        "    out = trainer.predict(ds_tok[split])\n",
        "    preds = np.argmax(out.predictions, axis=-1)\n",
        "    labels = out.label_ids\n",
        "    from evaluate import load as load_metric\n",
        "    acc_metric = load_metric(\"accuracy\"); f1_metric = load_metric(\"f1\")\n",
        "    acc = acc_metric.compute(predictions=preds, references=labels)[\"accuracy\"]\n",
        "    mf1 = f1_metric.compute(predictions=preds, references=labels, average=\"macro\")[\"f1\"]\n",
        "    RUNS.append({\n",
        "        \"method\": method,\n",
        "        \"hparams\": hparams,\n",
        "        \"split\": split,\n",
        "        \"accuracy\": acc,\n",
        "        \"macro_f1\": mf1,\n",
        "        \"elapsed_s\": timing.get(\"elapsed_s\"),\n",
        "        \"peak_vram_mb\": timing.get(\"peak_vram_mb\"),\n",
        "    })\n",
        "    print(f\"[{method} | {hparams} | {split}] Acc={acc:.4f} | Macro-F1={mf1:.4f} | time={timing.get('elapsed_s'):.1f}s | vram={timing.get('peak_vram_mb')}\")"
      ],
      "metadata": {
        "id": "166FMujcGz3a"
      },
      "execution_count": 44,
      "outputs": []
    },
    {
      "cell_type": "markdown",
      "source": [
        "# 7) LoRA fine-tuning\n",
        "\n",
        "I applied LoRA (Low-Rank Adaptation) with rank=8 and dropout=0.1. This method trained only ~1.3% of the model parameters while reaching ~94% accuracy on the test set, demonstrating strong efficiency-performance trade-offs."
      ],
      "metadata": {
        "id": "f84GKE0f1h_R"
      }
    },
    {
      "cell_type": "code",
      "source": [
        "# 7.1 Load base model (DistilBERT) for sequence classification\n",
        "from transformers import AutoModelForSequenceClassification\n",
        "\n",
        "MODEL_NAME = \"distilbert-base-uncased\"\n",
        "\n",
        "lora_base_model = AutoModelForSequenceClassification.from_pretrained(\n",
        "    MODEL_NAME,\n",
        "    num_labels=4,\n",
        "    id2label={0:\"World\",1:\"Sports\",2:\"Business\",3:\"Sci/Tech\"},\n",
        "    label2id={\"World\":0,\"Sports\":1,\"Business\":2,\"Sci/Tech\":3}\n",
        ")\n",
        "\n",
        "print(\"Loaded base model for LoRA:\", MODEL_NAME)"
      ],
      "metadata": {
        "colab": {
          "base_uri": "https://localhost:8080/",
          "height": 0
        },
        "id": "aElyPaJU1jQu",
        "outputId": "12242196-ebc5-448b-c1cc-c172fc119b12"
      },
      "execution_count": 48,
      "outputs": [
        {
          "output_type": "stream",
          "name": "stderr",
          "text": [
            "Some weights of DistilBertForSequenceClassification were not initialized from the model checkpoint at distilbert-base-uncased and are newly initialized: ['classifier.bias', 'classifier.weight', 'pre_classifier.bias', 'pre_classifier.weight']\n",
            "You should probably TRAIN this model on a down-stream task to be able to use it for predictions and inference.\n"
          ]
        },
        {
          "output_type": "stream",
          "name": "stdout",
          "text": [
            "Loaded base model for LoRA: distilbert-base-uncased\n"
          ]
        }
      ]
    },
    {
      "cell_type": "code",
      "source": [
        "# 7.2 Configure & attach LoRA adapters\n",
        "from peft import LoraConfig, get_peft_model, TaskType\n",
        "\n",
        "lora_config = LoraConfig(\n",
        "    task_type=TaskType.SEQ_CLS,\n",
        "    r=8,                 # LoRA rank (we'll ablate later)\n",
        "    lora_alpha=16,       # scaling\n",
        "    lora_dropout=0.10,   # regularization\n",
        "    target_modules=[\"q_lin\", \"k_lin\", \"v_lin\", \"out_lin\"],  # DistilBERT attention projections\n",
        ")\n",
        "\n",
        "lora_model = get_peft_model(lora_base_model, lora_config)\n",
        "lora_model.print_trainable_parameters()"
      ],
      "metadata": {
        "colab": {
          "base_uri": "https://localhost:8080/",
          "height": 0
        },
        "id": "AkoZKNBt2iU1",
        "outputId": "8128d142-8aa7-4bb2-e175-15b92e1997d4"
      },
      "execution_count": 49,
      "outputs": [
        {
          "output_type": "stream",
          "name": "stdout",
          "text": [
            "trainable params: 888,580 || all params: 67,845,128 || trainable%: 1.3097\n"
          ]
        }
      ]
    },
    {
      "cell_type": "code",
      "source": [
        "# 7.3 Verify trainable parameter ratio (LoRA should be ~<2% typically)\n",
        "lora_info = count_trainable_params(lora_model)\n",
        "print(f\"Params (total): {lora_info['total']:,} | (trainable): {lora_info['trainable']:,} | {lora_info['pct']:.4f}% trainable\")"
      ],
      "metadata": {
        "colab": {
          "base_uri": "https://localhost:8080/",
          "height": 0
        },
        "id": "0uWTojDK2mNP",
        "outputId": "4efac522-03ac-46a5-f8bd-e7bb4a457d7b"
      },
      "execution_count": 50,
      "outputs": [
        {
          "output_type": "stream",
          "name": "stdout",
          "text": [
            "Params (total): 67,845,128 | (trainable): 888,580 | 1.3097% trainable\n"
          ]
        }
      ]
    },
    {
      "cell_type": "code",
      "source": [
        "# 7.4 TrainingArguments for LoRA fine-tuning\n",
        "from transformers import TrainingArguments\n",
        "import torch\n",
        "\n",
        "args_lora = TrainingArguments(\n",
        "    output_dir=\"./runs_lora_tmp\",\n",
        "    per_device_train_batch_size=32,\n",
        "    per_device_eval_batch_size=64,\n",
        "    learning_rate=2e-4,          # LoRA can use a slightly higher LR\n",
        "    num_train_epochs=4,          # main experiment: 3–4 epochs\n",
        "    eval_strategy=\"epoch\",\n",
        "    logging_strategy=\"steps\",\n",
        "    logging_steps=50,\n",
        "    save_strategy=\"no\",          # we won't save checkpoints (you'll screenshot results)\n",
        "    load_best_model_at_end=False,\n",
        "    fp16=torch.cuda.is_available(),\n",
        "    report_to=\"none\",\n",
        "    seed=42,\n",
        ")\n",
        "\n",
        "print(args_lora)"
      ],
      "metadata": {
        "colab": {
          "base_uri": "https://localhost:8080/",
          "height": 0
        },
        "id": "Jn3j4zgh2ohb",
        "outputId": "88b6b352-cfb8-4cfb-b402-c92d8fd73f8b"
      },
      "execution_count": 51,
      "outputs": [
        {
          "output_type": "stream",
          "name": "stdout",
          "text": [
            "TrainingArguments(\n",
            "_n_gpu=1,\n",
            "accelerator_config={'split_batches': False, 'dispatch_batches': None, 'even_batches': True, 'use_seedable_sampler': True, 'non_blocking': False, 'gradient_accumulation_kwargs': None, 'use_configured_state': False},\n",
            "adafactor=False,\n",
            "adam_beta1=0.9,\n",
            "adam_beta2=0.999,\n",
            "adam_epsilon=1e-08,\n",
            "auto_find_batch_size=False,\n",
            "average_tokens_across_devices=False,\n",
            "batch_eval_metrics=False,\n",
            "bf16=False,\n",
            "bf16_full_eval=False,\n",
            "data_seed=None,\n",
            "dataloader_drop_last=False,\n",
            "dataloader_num_workers=0,\n",
            "dataloader_persistent_workers=False,\n",
            "dataloader_pin_memory=True,\n",
            "dataloader_prefetch_factor=None,\n",
            "ddp_backend=None,\n",
            "ddp_broadcast_buffers=None,\n",
            "ddp_bucket_cap_mb=None,\n",
            "ddp_find_unused_parameters=None,\n",
            "ddp_timeout=1800,\n",
            "debug=[],\n",
            "deepspeed=None,\n",
            "disable_tqdm=False,\n",
            "do_eval=True,\n",
            "do_predict=False,\n",
            "do_train=False,\n",
            "eval_accumulation_steps=None,\n",
            "eval_delay=0,\n",
            "eval_do_concat_batches=True,\n",
            "eval_on_start=False,\n",
            "eval_steps=None,\n",
            "eval_strategy=IntervalStrategy.EPOCH,\n",
            "eval_use_gather_object=False,\n",
            "fp16=True,\n",
            "fp16_backend=auto,\n",
            "fp16_full_eval=False,\n",
            "fp16_opt_level=O1,\n",
            "fsdp=[],\n",
            "fsdp_config={'min_num_params': 0, 'xla': False, 'xla_fsdp_v2': False, 'xla_fsdp_grad_ckpt': False},\n",
            "fsdp_min_num_params=0,\n",
            "fsdp_transformer_layer_cls_to_wrap=None,\n",
            "full_determinism=False,\n",
            "gradient_accumulation_steps=1,\n",
            "gradient_checkpointing=False,\n",
            "gradient_checkpointing_kwargs=None,\n",
            "greater_is_better=None,\n",
            "group_by_length=False,\n",
            "half_precision_backend=auto,\n",
            "hub_always_push=False,\n",
            "hub_model_id=None,\n",
            "hub_private_repo=None,\n",
            "hub_strategy=HubStrategy.EVERY_SAVE,\n",
            "hub_token=<HUB_TOKEN>,\n",
            "ignore_data_skip=False,\n",
            "include_for_metrics=[],\n",
            "include_inputs_for_metrics=False,\n",
            "include_num_input_tokens_seen=False,\n",
            "include_tokens_per_second=False,\n",
            "jit_mode_eval=False,\n",
            "label_names=None,\n",
            "label_smoothing_factor=0.0,\n",
            "learning_rate=0.0002,\n",
            "length_column_name=length,\n",
            "load_best_model_at_end=False,\n",
            "local_rank=0,\n",
            "log_level=passive,\n",
            "log_level_replica=warning,\n",
            "log_on_each_node=True,\n",
            "logging_dir=./runs_lora_tmp/runs/Oct16_08-26-48_8618003ca343,\n",
            "logging_first_step=False,\n",
            "logging_nan_inf_filter=True,\n",
            "logging_steps=50,\n",
            "logging_strategy=IntervalStrategy.STEPS,\n",
            "lr_scheduler_kwargs={},\n",
            "lr_scheduler_type=SchedulerType.LINEAR,\n",
            "max_grad_norm=1.0,\n",
            "max_steps=-1,\n",
            "metric_for_best_model=None,\n",
            "mp_parameters=,\n",
            "neftune_noise_alpha=None,\n",
            "no_cuda=False,\n",
            "num_train_epochs=4,\n",
            "optim=OptimizerNames.ADAMW_TORCH,\n",
            "optim_args=None,\n",
            "optim_target_modules=None,\n",
            "output_dir=./runs_lora_tmp,\n",
            "overwrite_output_dir=False,\n",
            "past_index=-1,\n",
            "per_device_eval_batch_size=64,\n",
            "per_device_train_batch_size=32,\n",
            "prediction_loss_only=False,\n",
            "push_to_hub=False,\n",
            "push_to_hub_model_id=None,\n",
            "push_to_hub_organization=None,\n",
            "push_to_hub_token=<PUSH_TO_HUB_TOKEN>,\n",
            "ray_scope=last,\n",
            "remove_unused_columns=True,\n",
            "report_to=[],\n",
            "restore_callback_states_from_checkpoint=False,\n",
            "resume_from_checkpoint=None,\n",
            "run_name=./runs_lora_tmp,\n",
            "save_on_each_node=False,\n",
            "save_only_model=False,\n",
            "save_safetensors=True,\n",
            "save_steps=500,\n",
            "save_strategy=SaveStrategy.NO,\n",
            "save_total_limit=None,\n",
            "seed=42,\n",
            "skip_memory_metrics=True,\n",
            "tf32=None,\n",
            "torch_compile=False,\n",
            "torch_compile_backend=None,\n",
            "torch_compile_mode=None,\n",
            "torch_empty_cache_steps=None,\n",
            "torchdynamo=None,\n",
            "tp_size=0,\n",
            "tpu_metrics_debug=False,\n",
            "tpu_num_cores=None,\n",
            "use_cpu=False,\n",
            "use_ipex=False,\n",
            "use_legacy_prediction_loop=False,\n",
            "use_liger_kernel=False,\n",
            "use_mps_device=False,\n",
            "warmup_ratio=0.0,\n",
            "warmup_steps=0,\n",
            "weight_decay=0.0,\n",
            ")\n"
          ]
        }
      ]
    },
    {
      "cell_type": "code",
      "source": [
        "# 7.5 Train LoRA model\n",
        "from transformers import Trainer\n",
        "\n",
        "trainer_lora = Trainer(\n",
        "    model=lora_model,\n",
        "    args=args_lora,\n",
        "    train_dataset=ds_tok[\"train\"],\n",
        "    eval_dataset=ds_tok[\"validation\"],\n",
        "    tokenizer=tokenizer,          # FutureWarning is fine; we prefer simple pipeline here\n",
        "    data_collator=data_collator,\n",
        "    compute_metrics=compute_metrics,\n",
        ")\n",
        "\n",
        "t0 = start_timer()\n",
        "train_out_lora = trainer_lora.train()\n",
        "timing_lora = end_timer(t0)\n",
        "\n",
        "print(train_out_lora)\n",
        "print(f\"Elapsed (s): {timing_lora['elapsed_s']:.2f}\")\n",
        "print(f\"Peak VRAM (MB): {timing_lora['peak_vram_mb']:.1f}\" if timing_lora['peak_vram_mb'] is not None else \"Peak VRAM: n/a\")"
      ],
      "metadata": {
        "colab": {
          "base_uri": "https://localhost:8080/",
          "height": 315
        },
        "id": "BubXWAlX2rBT",
        "outputId": "4d79551a-0719-4c45-a1c2-cf61fcfdfe0a"
      },
      "execution_count": 52,
      "outputs": [
        {
          "output_type": "stream",
          "name": "stderr",
          "text": [
            "/tmp/ipython-input-1922908257.py:4: FutureWarning: `tokenizer` is deprecated and will be removed in version 5.0.0 for `Trainer.__init__`. Use `processing_class` instead.\n",
            "  trainer_lora = Trainer(\n",
            "No label_names provided for model class `PeftModelForSequenceClassification`. Since `PeftModel` hides base models input arguments, if label_names is not given, label_names can't be set automatically within `Trainer`. Note that empty label_names list will be used instead.\n"
          ]
        },
        {
          "output_type": "display_data",
          "data": {
            "text/plain": [
              "<IPython.core.display.HTML object>"
            ],
            "text/html": [
              "\n",
              "    <div>\n",
              "      \n",
              "      <progress value='13500' max='13500' style='width:300px; height:20px; vertical-align: middle;'></progress>\n",
              "      [13500/13500 17:19, Epoch 4/4]\n",
              "    </div>\n",
              "    <table border=\"1\" class=\"dataframe\">\n",
              "  <thead>\n",
              " <tr style=\"text-align: left;\">\n",
              "      <th>Epoch</th>\n",
              "      <th>Training Loss</th>\n",
              "      <th>Validation Loss</th>\n",
              "      <th>Accuracy</th>\n",
              "      <th>Macro F1</th>\n",
              "    </tr>\n",
              "  </thead>\n",
              "  <tbody>\n",
              "    <tr>\n",
              "      <td>1</td>\n",
              "      <td>0.183600</td>\n",
              "      <td>0.187290</td>\n",
              "      <td>0.933500</td>\n",
              "      <td>0.933403</td>\n",
              "    </tr>\n",
              "    <tr>\n",
              "      <td>2</td>\n",
              "      <td>0.167000</td>\n",
              "      <td>0.172599</td>\n",
              "      <td>0.938250</td>\n",
              "      <td>0.938230</td>\n",
              "    </tr>\n",
              "    <tr>\n",
              "      <td>3</td>\n",
              "      <td>0.156900</td>\n",
              "      <td>0.166035</td>\n",
              "      <td>0.942167</td>\n",
              "      <td>0.942055</td>\n",
              "    </tr>\n",
              "    <tr>\n",
              "      <td>4</td>\n",
              "      <td>0.148700</td>\n",
              "      <td>0.163706</td>\n",
              "      <td>0.942333</td>\n",
              "      <td>0.942305</td>\n",
              "    </tr>\n",
              "  </tbody>\n",
              "</table><p>"
            ]
          },
          "metadata": {}
        },
        {
          "output_type": "stream",
          "name": "stdout",
          "text": [
            "TrainOutput(global_step=13500, training_loss=0.18054951604207356, metrics={'train_runtime': 1039.5549, 'train_samples_per_second': 415.562, 'train_steps_per_second': 12.986, 'total_flos': 1.1953684882922496e+16, 'train_loss': 0.18054951604207356, 'epoch': 4.0})\n",
            "Elapsed (s): 1039.90\n",
            "Peak VRAM (MB): 2522.5\n"
          ]
        }
      ]
    },
    {
      "cell_type": "code",
      "source": [
        "# 7.6 Evaluate LoRA on validation and test\n",
        "print(\"== LoRA: Validation ==\")\n",
        "_ = evaluate_split(trainer_lora, ds_tok[\"validation\"], split_name=\"validation\")\n",
        "\n",
        "print(\"== LoRA: Test ==\")\n",
        "_ = evaluate_split(trainer_lora, ds_tok[\"test\"], split_name=\"test\")"
      ],
      "metadata": {
        "colab": {
          "base_uri": "https://localhost:8080/",
          "height": 2324
        },
        "id": "myUQ6kqT2u_e",
        "outputId": "25868915-d202-490e-9c93-8366c52e978e"
      },
      "execution_count": 53,
      "outputs": [
        {
          "output_type": "stream",
          "name": "stdout",
          "text": [
            "== LoRA: Validation ==\n"
          ]
        },
        {
          "output_type": "display_data",
          "data": {
            "text/plain": [
              "<IPython.core.display.HTML object>"
            ],
            "text/html": []
          },
          "metadata": {}
        },
        {
          "output_type": "stream",
          "name": "stdout",
          "text": [
            "[validation] Accuracy: 0.9423 | Macro-F1: 0.9423\n",
            "              precision    recall  f1-score   support\n",
            "\n",
            "       World     0.9588    0.9463    0.9525      3000\n",
            "      Sports     0.9847    0.9893    0.9870      3000\n",
            "    Business     0.9246    0.8950    0.9096      3000\n",
            "    Sci/Tech     0.9023    0.9387    0.9201      3000\n",
            "\n",
            "    accuracy                         0.9423     12000\n",
            "   macro avg     0.9426    0.9423    0.9423     12000\n",
            "weighted avg     0.9426    0.9423    0.9423     12000\n",
            "\n"
          ]
        },
        {
          "output_type": "display_data",
          "data": {
            "text/plain": [
              "<Figure size 640x480 with 2 Axes>"
            ],
            "image/png": "[encoded data removed]"
          },
          "metadata": {}
        },
        {
          "output_type": "display_data",
          "data": {
            "text/plain": [
              "<Figure size 640x480 with 2 Axes>"
            ],
            "image/png": "[encoded data removed]"
          },
          "metadata": {}
        },
        {
          "output_type": "stream",
          "name": "stdout",
          "text": [
            "== LoRA: Test ==\n"
          ]
        },
        {
          "output_type": "display_data",
          "data": {
            "text/plain": [
              "<IPython.core.display.HTML object>"
            ],
            "text/html": []
          },
          "metadata": {}
        },
        {
          "output_type": "stream",
          "name": "stdout",
          "text": [
            "[test] Accuracy: 0.9396 | Macro-F1: 0.9397\n",
            "              precision    recall  f1-score   support\n",
            "\n",
            "       World     0.9589    0.9453    0.9520      1900\n",
            "      Sports     0.9853    0.9868    0.9861      1900\n",
            "    Business     0.9168    0.8995    0.9081      1900\n",
            "    Sci/Tech     0.8985    0.9268    0.9124      1900\n",
            "\n",
            "    accuracy                         0.9396      7600\n",
            "   macro avg     0.9399    0.9396    0.9397      7600\n",
            "weighted avg     0.9399    0.9396    0.9397      7600\n",
            "\n"
          ]
        },
        {
          "output_type": "display_data",
          "data": {
            "text/plain": [
              "<Figure size 640x480 with 2 Axes>"
            ],
            "image/png": "[encoded data removed]"
          },
          "metadata": {}
        },
        {
          "output_type": "display_data",
          "data": {
            "text/plain": [
              "<Figure size 640x480 with 2 Axes>"
            ],
            "image/png": "[encoded data removed]"
          },
          "metadata": {}
        }
      ]
    },
    {
      "cell_type": "code",
      "source": [
        "# 7.7 Summarize LoRA efficiency metrics for your results table\n",
        "lora_summary = {\n",
        "    \"method\": \"LoRA (r=8, alpha=16, drop=0.10)\",\n",
        "    \"trainable_pct\": lora_info[\"pct\"],\n",
        "    \"elapsed_s\": timing_lora[\"elapsed_s\"],\n",
        "    \"peak_vram_mb\": timing_lora[\"peak_vram_mb\"],\n",
        "}\n",
        "print(lora_summary)"
      ],
      "metadata": {
        "colab": {
          "base_uri": "https://localhost:8080/",
          "height": 0
        },
        "id": "pTywjnRE2wex",
        "outputId": "d157dd60-689e-4f53-fcb0-543c779c3d4c"
      },
      "execution_count": 54,
      "outputs": [
        {
          "output_type": "stream",
          "name": "stdout",
          "text": [
            "{'method': 'LoRA (r=8, alpha=16, drop=0.10)', 'trainable_pct': 1.3097182158754272, 'elapsed_s': 1039.9049990177155, 'peak_vram_mb': 2522.523136}\n"
          ]
        }
      ]
    },
    {
      "cell_type": "markdown",
      "source": [
        "# 8) Full parameters fine-tuning\n",
        "\n",
        "I applied LoRA (Low-Rank Adaptation) with rank=8 and dropout=0.1. This method trained only ~1.3% of the model parameters while reaching ~94% accuracy on the test set, demonstrating strong efficiency-performance trade-offs."
      ],
      "metadata": {
        "id": "QFv2uldd7h6w"
      }
    },
    {
      "cell_type": "code",
      "source": [
        "# 8.1 Full FT — load DistilBERT (all layers trainable by default)\n",
        "from transformers import AutoModelForSequenceClassification\n",
        "\n",
        "MODEL_NAME = \"distilbert-base-uncased\"\n",
        "full_model = AutoModelForSequenceClassification.from_pretrained(\n",
        "    MODEL_NAME,\n",
        "    num_labels=4,\n",
        "    id2label={0:\"World\",1:\"Sports\",2:\"Business\",3:\"Sci/Tech\"},\n",
        "    label2id={\"World\":0,\"Sports\":1,\"Business\":2,\"Sci/Tech\":3}\n",
        ")\n",
        "\n",
        "# Sanity: trainable %\n",
        "full_info = count_trainable_params(full_model)\n",
        "print(f\"Params (total): {full_info['total']:,} | (trainable): {full_info['trainable']:,} | {full_info['pct']:.2f}% trainable\")"
      ],
      "metadata": {
        "colab": {
          "base_uri": "https://localhost:8080/",
          "height": 0
        },
        "id": "i1NQ1NZ7-nQ8",
        "outputId": "afb1f84e-e200-45f2-dab1-6d0172fe28ae"
      },
      "execution_count": 38,
      "outputs": [
        {
          "output_type": "stream",
          "name": "stderr",
          "text": [
            "Some weights of DistilBertForSequenceClassification were not initialized from the model checkpoint at distilbert-base-uncased and are newly initialized: ['classifier.bias', 'classifier.weight', 'pre_classifier.bias', 'pre_classifier.weight']\n",
            "You should probably TRAIN this model on a down-stream task to be able to use it for predictions and inference.\n"
          ]
        },
        {
          "output_type": "stream",
          "name": "stdout",
          "text": [
            "Params (total): 66,956,548 | (trainable): 66,956,548 | 100.00% trainable\n"
          ]
        }
      ]
    },
    {
      "cell_type": "code",
      "source": [
        "# 8.2 TrainingArguments for full fine-tuning (Colab-friendly)\n",
        "from transformers import TrainingArguments\n",
        "import torch\n",
        "\n",
        "args_full = TrainingArguments(\n",
        "    output_dir=\"./runs_fullft_tmp\",\n",
        "    per_device_train_batch_size=32,    # if OOM, drop to 16\n",
        "    per_device_eval_batch_size=64,\n",
        "    learning_rate=2e-5,                # typical FT LR for encoders\n",
        "    num_train_epochs=4,                # match LoRA epochs for fairness\n",
        "    warmup_ratio=0.06,                 # small warmup helps stability\n",
        "    weight_decay=0.01,\n",
        "    eval_strategy=\"epoch\",\n",
        "    logging_strategy=\"steps\",\n",
        "    logging_steps=50,\n",
        "    save_strategy=\"no\",\n",
        "    load_best_model_at_end=False,\n",
        "    fp16=torch.cuda.is_available(),\n",
        "    gradient_accumulation_steps=1,     # if you lower batch size, you can bump this\n",
        "    seed=42,\n",
        "    report_to=\"none\",\n",
        ")\n",
        "\n",
        "print(args_full)\n"
      ],
      "metadata": {
        "colab": {
          "base_uri": "https://localhost:8080/",
          "height": 0
        },
        "id": "LTihhG9D_6rW",
        "outputId": "aa6f0d49-52a0-4fa8-e458-8f73e5d9a440"
      },
      "execution_count": 39,
      "outputs": [
        {
          "output_type": "stream",
          "name": "stdout",
          "text": [
            "TrainingArguments(\n",
            "_n_gpu=1,\n",
            "accelerator_config={'split_batches': False, 'dispatch_batches': None, 'even_batches': True, 'use_seedable_sampler': True, 'non_blocking': False, 'gradient_accumulation_kwargs': None, 'use_configured_state': False},\n",
            "adafactor=False,\n",
            "adam_beta1=0.9,\n",
            "adam_beta2=0.999,\n",
            "adam_epsilon=1e-08,\n",
            "auto_find_batch_size=False,\n",
            "average_tokens_across_devices=False,\n",
            "batch_eval_metrics=False,\n",
            "bf16=False,\n",
            "bf16_full_eval=False,\n",
            "data_seed=None,\n",
            "dataloader_drop_last=False,\n",
            "dataloader_num_workers=0,\n",
            "dataloader_persistent_workers=False,\n",
            "dataloader_pin_memory=True,\n",
            "dataloader_prefetch_factor=None,\n",
            "ddp_backend=None,\n",
            "ddp_broadcast_buffers=None,\n",
            "ddp_bucket_cap_mb=None,\n",
            "ddp_find_unused_parameters=None,\n",
            "ddp_timeout=1800,\n",
            "debug=[],\n",
            "deepspeed=None,\n",
            "disable_tqdm=False,\n",
            "do_eval=True,\n",
            "do_predict=False,\n",
            "do_train=False,\n",
            "eval_accumulation_steps=None,\n",
            "eval_delay=0,\n",
            "eval_do_concat_batches=True,\n",
            "eval_on_start=False,\n",
            "eval_steps=None,\n",
            "eval_strategy=IntervalStrategy.EPOCH,\n",
            "eval_use_gather_object=False,\n",
            "fp16=True,\n",
            "fp16_backend=auto,\n",
            "fp16_full_eval=False,\n",
            "fp16_opt_level=O1,\n",
            "fsdp=[],\n",
            "fsdp_config={'min_num_params': 0, 'xla': False, 'xla_fsdp_v2': False, 'xla_fsdp_grad_ckpt': False},\n",
            "fsdp_min_num_params=0,\n",
            "fsdp_transformer_layer_cls_to_wrap=None,\n",
            "full_determinism=False,\n",
            "gradient_accumulation_steps=1,\n",
            "gradient_checkpointing=False,\n",
            "gradient_checkpointing_kwargs=None,\n",
            "greater_is_better=None,\n",
            "group_by_length=False,\n",
            "half_precision_backend=auto,\n",
            "hub_always_push=False,\n",
            "hub_model_id=None,\n",
            "hub_private_repo=None,\n",
            "hub_strategy=HubStrategy.EVERY_SAVE,\n",
            "hub_token=<HUB_TOKEN>,\n",
            "ignore_data_skip=False,\n",
            "include_for_metrics=[],\n",
            "include_inputs_for_metrics=False,\n",
            "include_num_input_tokens_seen=False,\n",
            "include_tokens_per_second=False,\n",
            "jit_mode_eval=False,\n",
            "label_names=None,\n",
            "label_smoothing_factor=0.0,\n",
            "learning_rate=2e-05,\n",
            "length_column_name=length,\n",
            "load_best_model_at_end=False,\n",
            "local_rank=0,\n",
            "log_level=passive,\n",
            "log_level_replica=warning,\n",
            "log_on_each_node=True,\n",
            "logging_dir=./runs_fullft_tmp/runs/Oct16_07-50-27_8618003ca343,\n",
            "logging_first_step=False,\n",
            "logging_nan_inf_filter=True,\n",
            "logging_steps=50,\n",
            "logging_strategy=IntervalStrategy.STEPS,\n",
            "lr_scheduler_kwargs={},\n",
            "lr_scheduler_type=SchedulerType.LINEAR,\n",
            "max_grad_norm=1.0,\n",
            "max_steps=-1,\n",
            "metric_for_best_model=None,\n",
            "mp_parameters=,\n",
            "neftune_noise_alpha=None,\n",
            "no_cuda=False,\n",
            "num_train_epochs=4,\n",
            "optim=OptimizerNames.ADAMW_TORCH,\n",
            "optim_args=None,\n",
            "optim_target_modules=None,\n",
            "output_dir=./runs_fullft_tmp,\n",
            "overwrite_output_dir=False,\n",
            "past_index=-1,\n",
            "per_device_eval_batch_size=64,\n",
            "per_device_train_batch_size=32,\n",
            "prediction_loss_only=False,\n",
            "push_to_hub=False,\n",
            "push_to_hub_model_id=None,\n",
            "push_to_hub_organization=None,\n",
            "push_to_hub_token=<PUSH_TO_HUB_TOKEN>,\n",
            "ray_scope=last,\n",
            "remove_unused_columns=True,\n",
            "report_to=[],\n",
            "restore_callback_states_from_checkpoint=False,\n",
            "resume_from_checkpoint=None,\n",
            "run_name=./runs_fullft_tmp,\n",
            "save_on_each_node=False,\n",
            "save_only_model=False,\n",
            "save_safetensors=True,\n",
            "save_steps=500,\n",
            "save_strategy=SaveStrategy.NO,\n",
            "save_total_limit=None,\n",
            "seed=42,\n",
            "skip_memory_metrics=True,\n",
            "tf32=None,\n",
            "torch_compile=False,\n",
            "torch_compile_backend=None,\n",
            "torch_compile_mode=None,\n",
            "torch_empty_cache_steps=None,\n",
            "torchdynamo=None,\n",
            "tp_size=0,\n",
            "tpu_metrics_debug=False,\n",
            "tpu_num_cores=None,\n",
            "use_cpu=False,\n",
            "use_ipex=False,\n",
            "use_legacy_prediction_loop=False,\n",
            "use_liger_kernel=False,\n",
            "use_mps_device=False,\n",
            "warmup_ratio=0.06,\n",
            "warmup_steps=0,\n",
            "weight_decay=0.01,\n",
            ")\n"
          ]
        }
      ]
    },
    {
      "cell_type": "code",
      "source": [
        "# 8.3 Train full fine-tuned model\n",
        "from transformers import Trainer\n",
        "\n",
        "trainer_full = Trainer(\n",
        "    model=full_model,\n",
        "    args=args_full,\n",
        "    train_dataset=ds_tok[\"train\"],\n",
        "    eval_dataset=ds_tok[\"validation\"],\n",
        "    tokenizer=tokenizer,      # deprecation warning is fine\n",
        "    data_collator=data_collator,\n",
        "    compute_metrics=compute_metrics,\n",
        ")\n",
        "\n",
        "t0 = start_timer()\n",
        "train_out_full = trainer_full.train()\n",
        "timing_full = end_timer(t0)\n",
        "\n",
        "print(train_out_full)\n",
        "print(f\"Elapsed (s): {timing_full['elapsed_s']:.2f}\")\n",
        "print(f\"Peak VRAM (MB): {timing_full['peak_vram_mb']:.1f}\" if timing_full['peak_vram_mb'] is not None else \"Peak VRAM: n/a\")"
      ],
      "metadata": {
        "colab": {
          "base_uri": "https://localhost:8080/",
          "height": 298
        },
        "id": "m0AB4tIT_80G",
        "outputId": "52ca7c9c-5151-4a95-a738-68b24d4bb0ce"
      },
      "execution_count": 40,
      "outputs": [
        {
          "output_type": "stream",
          "name": "stderr",
          "text": [
            "/tmp/ipython-input-464509252.py:4: FutureWarning: `tokenizer` is deprecated and will be removed in version 5.0.0 for `Trainer.__init__`. Use `processing_class` instead.\n",
            "  trainer_full = Trainer(\n"
          ]
        },
        {
          "output_type": "display_data",
          "data": {
            "text/plain": [
              "<IPython.core.display.HTML object>"
            ],
            "text/html": [
              "\n",
              "    <div>\n",
              "      \n",
              "      <progress value='13500' max='13500' style='width:300px; height:20px; vertical-align: middle;'></progress>\n",
              "      [13500/13500 21:18, Epoch 4/4]\n",
              "    </div>\n",
              "    <table border=\"1\" class=\"dataframe\">\n",
              "  <thead>\n",
              " <tr style=\"text-align: left;\">\n",
              "      <th>Epoch</th>\n",
              "      <th>Training Loss</th>\n",
              "      <th>Validation Loss</th>\n",
              "      <th>Accuracy</th>\n",
              "      <th>Macro F1</th>\n",
              "    </tr>\n",
              "  </thead>\n",
              "  <tbody>\n",
              "    <tr>\n",
              "      <td>1</td>\n",
              "      <td>0.175800</td>\n",
              "      <td>0.176054</td>\n",
              "      <td>0.940917</td>\n",
              "      <td>0.940803</td>\n",
              "    </tr>\n",
              "    <tr>\n",
              "      <td>2</td>\n",
              "      <td>0.133300</td>\n",
              "      <td>0.169977</td>\n",
              "      <td>0.946667</td>\n",
              "      <td>0.946584</td>\n",
              "    </tr>\n",
              "    <tr>\n",
              "      <td>3</td>\n",
              "      <td>0.089300</td>\n",
              "      <td>0.186101</td>\n",
              "      <td>0.945833</td>\n",
              "      <td>0.945749</td>\n",
              "    </tr>\n",
              "    <tr>\n",
              "      <td>4</td>\n",
              "      <td>0.090700</td>\n",
              "      <td>0.208324</td>\n",
              "      <td>0.945917</td>\n",
              "      <td>0.945920</td>\n",
              "    </tr>\n",
              "  </tbody>\n",
              "</table><p>"
            ]
          },
          "metadata": {}
        },
        {
          "output_type": "stream",
          "name": "stdout",
          "text": [
            "TrainOutput(global_step=13500, training_loss=0.153643582061485, metrics={'train_runtime': 1278.353, 'train_samples_per_second': 337.935, 'train_steps_per_second': 10.56, 'total_flos': 1.1712340640534016e+16, 'train_loss': 0.153643582061485, 'epoch': 4.0})\n",
            "Elapsed (s): 1279.09\n",
            "Peak VRAM (MB): 2075.1\n"
          ]
        }
      ]
    },
    {
      "cell_type": "code",
      "source": [
        "# 8.4 Evaluate full FT on validation and test\n",
        "print(\"== Full FT: Validation ==\")\n",
        "_ = evaluate_split(trainer_full, ds_tok[\"validation\"], split_name=\"validation\")\n",
        "\n",
        "print(\"== Full FT: Test ==\")\n",
        "_ = evaluate_split(trainer_full, ds_tok[\"test\"], split_name=\"test\")"
      ],
      "metadata": {
        "colab": {
          "base_uri": "https://localhost:8080/",
          "height": 2324
        },
        "id": "qxO69U4y_-2Q",
        "outputId": "ce97ab6d-071e-4209-bd7b-97ef40f0badf"
      },
      "execution_count": 41,
      "outputs": [
        {
          "output_type": "stream",
          "name": "stdout",
          "text": [
            "== Full FT: Validation ==\n"
          ]
        },
        {
          "output_type": "display_data",
          "data": {
            "text/plain": [
              "<IPython.core.display.HTML object>"
            ],
            "text/html": []
          },
          "metadata": {}
        },
        {
          "output_type": "stream",
          "name": "stdout",
          "text": [
            "[validation] Accuracy: 0.9459 | Macro-F1: 0.9459\n",
            "              precision    recall  f1-score   support\n",
            "\n",
            "       World     0.9574    0.9503    0.9538      3000\n",
            "      Sports     0.9867    0.9870    0.9868      3000\n",
            "    Business     0.9281    0.9077    0.9178      3000\n",
            "    Sci/Tech     0.9122    0.9387    0.9253      3000\n",
            "\n",
            "    accuracy                         0.9459     12000\n",
            "   macro avg     0.9461    0.9459    0.9459     12000\n",
            "weighted avg     0.9461    0.9459    0.9459     12000\n",
            "\n"
          ]
        },
        {
          "output_type": "display_data",
          "data": {
            "text/plain": [
              "<Figure size 640x480 with 2 Axes>"
            ],
            "image/png": "[encoded data removed]"
          },
          "metadata": {}
        },
        {
          "output_type": "display_data",
          "data": {
            "text/plain": [
              "<Figure size 640x480 with 2 Axes>"
            ],
            "image/png": "[encoded data removed]"
          },
          "metadata": {}
        },
        {
          "output_type": "stream",
          "name": "stdout",
          "text": [
            "== Full FT: Test ==\n"
          ]
        },
        {
          "output_type": "display_data",
          "data": {
            "text/plain": [
              "<IPython.core.display.HTML object>"
            ],
            "text/html": []
          },
          "metadata": {}
        },
        {
          "output_type": "stream",
          "name": "stdout",
          "text": [
            "[test] Accuracy: 0.9438 | Macro-F1: 0.9439\n",
            "              precision    recall  f1-score   support\n",
            "\n",
            "       World     0.9620    0.9463    0.9541      1900\n",
            "      Sports     0.9889    0.9879    0.9884      1900\n",
            "    Business     0.9161    0.9137    0.9149      1900\n",
            "    Sci/Tech     0.9092    0.9274    0.9182      1900\n",
            "\n",
            "    accuracy                         0.9438      7600\n",
            "   macro avg     0.9441    0.9438    0.9439      7600\n",
            "weighted avg     0.9441    0.9438    0.9439      7600\n",
            "\n"
          ]
        },
        {
          "output_type": "display_data",
          "data": {
            "text/plain": [
              "<Figure size 640x480 with 2 Axes>"
            ],
            "image/png": "[encoded data removed]"
          },
          "metadata": {}
        },
        {
          "output_type": "display_data",
          "data": {
            "text/plain": [
              "<Figure size 640x480 with 2 Axes>"
            ],
            "image/png": "[encoded data removed]"
          },
          "metadata": {}
        }
      ]
    },
    {
      "cell_type": "code",
      "source": [
        "# 8.5 Summarize for results table\n",
        "full_summary = {\n",
        "    \"method\": \"Full Fine-Tune\",\n",
        "    \"trainable_pct\": full_info[\"pct\"],\n",
        "    \"elapsed_s\": timing_full[\"elapsed_s\"],\n",
        "    \"peak_vram_mb\": timing_full[\"peak_vram_mb\"],\n",
        "}\n",
        "print(full_summary)"
      ],
      "metadata": {
        "colab": {
          "base_uri": "https://localhost:8080/",
          "height": 0
        },
        "id": "RMz5n-uoAAR7",
        "outputId": "774b739e-2e0c-45fe-d264-9da4bf86ec7a"
      },
      "execution_count": 42,
      "outputs": [
        {
          "output_type": "stream",
          "name": "stdout",
          "text": [
            "{'method': 'Full Fine-Tune', 'trainable_pct': 100.0, 'elapsed_s': 1279.086905002594, 'peak_vram_mb': 2075.086848}\n"
          ]
        }
      ]
    },
    {
      "cell_type": "markdown",
      "source": [
        "# 9) Error Analysis\n",
        "\n",
        "I went beyond accuracy/F1 and analyzed model errors. We examined confusion matrices, misclassified samples (e.g., Business ↔ Sci/Tech mix-ups), and performance differences for short vs long texts. This revealed that both LoRA and full fine-tuning struggled with ambiguous articles but LoRA tended to be less overconfident in its mistakes."
      ],
      "metadata": {
        "id": "RW14FpbgOR4d"
      }
    },
    {
      "cell_type": "code",
      "source": [
        "# 9.1 Confusion matrix helper\n",
        "import matplotlib.pyplot as plt\n",
        "import seaborn as sns\n",
        "from sklearn.metrics import confusion_matrix\n",
        "\n",
        "def plot_confusion(trainer, split=\"test\", title=\"Confusion Matrix\"):\n",
        "    out = trainer.predict(ds_tok[split])\n",
        "    preds = np.argmax(out.predictions, axis=-1)\n",
        "    labels = out.label_ids\n",
        "    cm = confusion_matrix(labels, preds)\n",
        "    plt.figure(figsize=(6,5))\n",
        "    sns.heatmap(cm, annot=True, fmt=\"d\", cmap=\"Blues\",\n",
        "                xticklabels=[\"World\",\"Sports\",\"Business\",\"Sci/Tech\"],\n",
        "                yticklabels=[\"World\",\"Sports\",\"Business\",\"Sci/Tech\"])\n",
        "    plt.xlabel(\"Predicted\")\n",
        "    plt.ylabel(\"True\")\n",
        "    plt.title(title)\n",
        "    plt.show()"
      ],
      "metadata": {
        "id": "DqntOCLAOT3C"
      },
      "execution_count": 62,
      "outputs": []
    },
    {
      "cell_type": "code",
      "source": [
        "# 9.2 Run confusion matrices for LoRA and Full FT\n",
        "print(\"LoRA Confusion Matrix\")\n",
        "plot_confusion(trainer_lora, split=\"test\", title=\"LoRA Confusion (Test)\")\n",
        "\n",
        "print(\"Full FT Confusion Matrix\")\n",
        "plot_confusion(trainer_full, split=\"test\", title=\"Full FT Confusion (Test)\")"
      ],
      "metadata": {
        "colab": {
          "base_uri": "https://localhost:8080/",
          "height": 989
        },
        "id": "B9IQPT0UOWvJ",
        "outputId": "fa22aa17-c7ae-4683-9f6d-613217246edc"
      },
      "execution_count": 63,
      "outputs": [
        {
          "output_type": "stream",
          "name": "stdout",
          "text": [
            "LoRA Confusion Matrix\n"
          ]
        },
        {
          "output_type": "display_data",
          "data": {
            "text/plain": [
              "<IPython.core.display.HTML object>"
            ],
            "text/html": []
          },
          "metadata": {}
        },
        {
          "output_type": "display_data",
          "data": {
            "text/plain": [
              "<Figure size 600x500 with 2 Axes>"
            ],
            "image/png": "[encoded data removed]"
          },
          "metadata": {}
        },
        {
          "output_type": "stream",
          "name": "stdout",
          "text": [
            "Full FT Confusion Matrix\n"
          ]
        },
        {
          "output_type": "display_data",
          "data": {
            "text/plain": [
              "<IPython.core.display.HTML object>"
            ],
            "text/html": []
          },
          "metadata": {}
        },
        {
          "output_type": "display_data",
          "data": {
            "text/plain": [
              "<Figure size 600x500 with 2 Axes>"
            ],
            "image/png": "[encoded data removed]"
          },
          "metadata": {}
        }
      ]
    },
    {
      "cell_type": "code",
      "source": [
        "# 9.3 Misclassified examples (fixed for your dataset format)\n",
        "def show_misclassified(trainer, split=\"test\", n=5, target_pairs=[(2,3)]):\n",
        "    \"\"\"\n",
        "    target_pairs = list of (true_label, pred_label) tuples you want to inspect.\n",
        "    Example: [(2,3)] for Business→Sci/Tech errors.\n",
        "    \"\"\"\n",
        "    out = trainer.predict(ds_tok[split])\n",
        "    preds = np.argmax(out.predictions, axis=-1)\n",
        "    labels = out.label_ids\n",
        "\n",
        "    idx_errors = np.where(preds != labels)[0]\n",
        "    count = 0\n",
        "\n",
        "    # mapping for readability\n",
        "    label_map = {0: \"World\", 1: \"Sports\", 2: \"Business\", 3: \"Sci/Tech\"}\n",
        "\n",
        "    for idx in idx_errors:\n",
        "        true, pred = int(labels[idx]), int(preds[idx])\n",
        "        if (true, pred) in target_pairs:\n",
        "            ex = ds_tok[split][int(idx)]\n",
        "            # Prefer \"text\" if present, otherwise reconstruct\n",
        "            if \"text\" in ex:\n",
        "                text = ex[\"text\"]\n",
        "            else:\n",
        "                text = ex.get(\"Title\", \"\") + \" \" + ex.get(\"Description\", \"\")\n",
        "            print(f\"\\n[True={label_map[true]} | Pred={label_map[pred]}]\")\n",
        "            print(text[:300], \"...\" if len(text) > 300 else \"\")\n",
        "            count += 1\n",
        "            if count >= n:\n",
        "                break\n",
        "\n",
        "print(\"Sample LoRA misclassifications (Business→Sci/Tech)\")\n",
        "show_misclassified(trainer_lora, split=\"test\", n=5, target_pairs=[(2,3)])\n",
        "\n",
        "print(\"\\nSample Full FT misclassifications (Business→Sci/Tech)\")\n",
        "show_misclassified(trainer_full, split=\"test\", n=5, target_pairs=[(2,3)])"
      ],
      "metadata": {
        "colab": {
          "base_uri": "https://localhost:8080/",
          "height": 560
        },
        "id": "8S8UFciVPY01",
        "outputId": "c015e49e-6220-46b1-8216-54f5abcc6d28"
      },
      "execution_count": 67,
      "outputs": [
        {
          "output_type": "stream",
          "name": "stdout",
          "text": [
            "Sample LoRA misclassifications (Business→Sci/Tech)\n"
          ]
        },
        {
          "output_type": "display_data",
          "data": {
            "text/plain": [
              "<IPython.core.display.HTML object>"
            ],
            "text/html": []
          },
          "metadata": {}
        },
        {
          "output_type": "stream",
          "name": "stdout",
          "text": [
            "\n",
            "[True=Business | Pred=Sci/Tech]\n",
            "  \n",
            "\n",
            "[True=Business | Pred=Sci/Tech]\n",
            "  \n",
            "\n",
            "[True=Business | Pred=Sci/Tech]\n",
            "  \n",
            "\n",
            "[True=Business | Pred=Sci/Tech]\n",
            "  \n",
            "\n",
            "[True=Business | Pred=Sci/Tech]\n",
            "  \n",
            "\n",
            "Sample Full FT misclassifications (Business→Sci/Tech)\n"
          ]
        },
        {
          "output_type": "display_data",
          "data": {
            "text/plain": [
              "<IPython.core.display.HTML object>"
            ],
            "text/html": []
          },
          "metadata": {}
        },
        {
          "output_type": "stream",
          "name": "stdout",
          "text": [
            "\n",
            "[True=Business | Pred=Sci/Tech]\n",
            "  \n",
            "\n",
            "[True=Business | Pred=Sci/Tech]\n",
            "  \n",
            "\n",
            "[True=Business | Pred=Sci/Tech]\n",
            "  \n",
            "\n",
            "[True=Business | Pred=Sci/Tech]\n",
            "  \n",
            "\n",
            "[True=Business | Pred=Sci/Tech]\n",
            "  \n"
          ]
        }
      ]
    },
    {
      "cell_type": "code",
      "source": [
        "# 9.4 Performance by text length (decode input_ids back to text)\n",
        "def eval_by_length(trainer, split=\"test\", threshold=20):\n",
        "    out = trainer.predict(ds_tok[split])\n",
        "    preds = np.argmax(out.predictions, axis=-1)\n",
        "    labels = out.label_ids\n",
        "\n",
        "    # Decode input_ids back into text\n",
        "    texts = [\n",
        "        tokenizer.decode(ex[\"input_ids\"], skip_special_tokens=True)\n",
        "        for ex in ds_tok[split]\n",
        "    ]\n",
        "    lengths = [len(t.split()) for t in texts]\n",
        "\n",
        "    short_idx = [i for i,l in enumerate(lengths) if l <= threshold]\n",
        "    long_idx  = [i for i,l in enumerate(lengths) if l > threshold]\n",
        "\n",
        "    def compute_acc_f1(sub_idx):\n",
        "        if not sub_idx: return (None, None)\n",
        "        p = preds[sub_idx]; y = labels[sub_idx]\n",
        "        acc = acc_metric.compute(predictions=p, references=y)[\"accuracy\"]\n",
        "        mf1 = f1_metric.compute(predictions=p, references=y, average=\"macro\")[\"f1\"]\n",
        "        return acc, mf1\n",
        "\n",
        "    acc_s, f1_s = compute_acc_f1(short_idx)\n",
        "    acc_l, f1_l = compute_acc_f1(long_idx)\n",
        "\n",
        "    print(f\"Short texts (≤{threshold} words): Acc={acc_s:.3f} | F1={f1_s:.3f} | n={len(short_idx)}\")\n",
        "    print(f\"Long texts  (>{threshold} words): Acc={acc_l:.3f} | F1={f1_l:.3f} | n={len(long_idx)}\")\n",
        "\n",
        "print(\"LoRA length-based analysis\")\n",
        "eval_by_length(trainer_lora, split=\"test\")\n",
        "\n",
        "print(\"\\nFull FT length-based analysis\")\n",
        "eval_by_length(trainer_full, split=\"test\")"
      ],
      "metadata": {
        "colab": {
          "base_uri": "https://localhost:8080/",
          "height": 131
        },
        "id": "QB-F4pOfQICy",
        "outputId": "8476e8b3-1444-412d-c98d-83ae59628acc"
      },
      "execution_count": 71,
      "outputs": [
        {
          "output_type": "stream",
          "name": "stdout",
          "text": [
            "LoRA length-based analysis\n"
          ]
        },
        {
          "output_type": "display_data",
          "data": {
            "text/plain": [
              "<IPython.core.display.HTML object>"
            ],
            "text/html": []
          },
          "metadata": {}
        },
        {
          "output_type": "stream",
          "name": "stdout",
          "text": [
            "Short texts (≤20 words): Acc=0.883 | F1=0.784 | n=94\n",
            "Long texts  (>20 words): Acc=0.940 | F1=0.940 | n=7506\n",
            "\n",
            "Full FT length-based analysis\n"
          ]
        },
        {
          "output_type": "display_data",
          "data": {
            "text/plain": [
              "<IPython.core.display.HTML object>"
            ],
            "text/html": []
          },
          "metadata": {}
        },
        {
          "output_type": "stream",
          "name": "stdout",
          "text": [
            "Short texts (≤20 words): Acc=0.894 | F1=0.789 | n=94\n",
            "Long texts  (>20 words): Acc=0.944 | F1=0.944 | n=7506\n"
          ]
        }
      ]
    },
    {
      "cell_type": "code",
      "source": [
        "# 9.5 Confidence calibration bins\n",
        "def eval_by_confidence(trainer, split=\"test\", bins=[0.5,0.6,0.7,0.8,0.9,1.0]):\n",
        "    out = trainer.predict(ds_tok[split])\n",
        "    probs = out.predictions\n",
        "    preds = np.argmax(probs, axis=-1)\n",
        "    conf  = probs.max(axis=-1)\n",
        "    labels = out.label_ids\n",
        "\n",
        "    for i in range(len(bins)-1):\n",
        "        low, high = bins[i], bins[i+1]\n",
        "        idx = np.where((conf>=low) & (conf<high))[0]\n",
        "        if len(idx)==0: continue\n",
        "        acc = acc_metric.compute(predictions=preds[idx], references=labels[idx])[\"accuracy\"]\n",
        "        print(f\"Conf {low:.1f}–{high:.1f}: n={len(idx)} | Acc={acc:.3f}\")\n",
        "\n",
        "print(\"LoRA confidence bins\")\n",
        "eval_by_confidence(trainer_lora, split=\"test\")\n",
        "\n",
        "print(\"\\nFull FT confidence bins\")\n",
        "eval_by_confidence(trainer_full, split=\"test\")"
      ],
      "metadata": {
        "colab": {
          "base_uri": "https://localhost:8080/",
          "height": 214
        },
        "id": "cR8-n-GaOebl",
        "outputId": "a7b33e0a-d62b-4e12-ea80-9eab70164b96"
      },
      "execution_count": 72,
      "outputs": [
        {
          "output_type": "stream",
          "name": "stdout",
          "text": [
            "LoRA confidence bins\n"
          ]
        },
        {
          "output_type": "display_data",
          "data": {
            "text/plain": [
              "<IPython.core.display.HTML object>"
            ],
            "text/html": []
          },
          "metadata": {}
        },
        {
          "output_type": "stream",
          "name": "stdout",
          "text": [
            "Conf 0.5–0.6: n=6 | Acc=0.667\n",
            "Conf 0.6–0.7: n=3 | Acc=0.333\n",
            "Conf 0.7–0.8: n=11 | Acc=0.636\n",
            "Conf 0.8–0.9: n=5 | Acc=0.200\n",
            "Conf 0.9–1.0: n=6 | Acc=0.500\n",
            "\n",
            "Full FT confidence bins\n"
          ]
        },
        {
          "output_type": "display_data",
          "data": {
            "text/plain": [
              "<IPython.core.display.HTML object>"
            ],
            "text/html": []
          },
          "metadata": {}
        },
        {
          "output_type": "stream",
          "name": "stdout",
          "text": [
            "Conf 0.6–0.7: n=1 | Acc=0.000\n",
            "Conf 0.7–0.8: n=1 | Acc=1.000\n",
            "Conf 0.8–0.9: n=1 | Acc=0.000\n",
            "Conf 0.9–1.0: n=2 | Acc=1.000\n"
          ]
        }
      ]
    }
  ]
}